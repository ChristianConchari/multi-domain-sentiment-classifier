{
  "cells": [
    {
      "cell_type": "markdown",
      "metadata": {
        "id": "Xlx7hZTWQYqZ"
      },
      "source": [
        "# Import libraries"
      ]
    },
    {
      "cell_type": "code",
      "execution_count": 1,
      "metadata": {
        "colab": {
          "base_uri": "https://localhost:8080/"
        },
        "id": "RFDRCXbc3nyx",
        "outputId": "28bfb7be-8e93-484a-b2a6-1842db4c76d2"
      },
      "outputs": [
        {
          "name": "stdout",
          "output_type": "stream",
          "text": [
            "--2024-02-01 11:46:08--  https://www.cs.jhu.edu/~mdredze/datasets/sentiment/unprocessed.tar.gz\n",
            "Resolving www.cs.jhu.edu (www.cs.jhu.edu)... "
          ]
        },
        {
          "name": "stdout",
          "output_type": "stream",
          "text": [
            "128.220.13.64\n",
            "Connecting to www.cs.jhu.edu (www.cs.jhu.edu)|128.220.13.64|:443... connected.\n",
            "HTTP request sent, awaiting response... 200 OK\n",
            "Length: 1586365438 (1.5G) [application/x-gzip]\n",
            "Saving to: ‘unprocessed.tar.gz’\n",
            "\n",
            "unprocessed.tar.gz  100%[===================>]   1.48G  1.57MB/s    in 8m 55s  \n",
            "\n",
            "2024-02-01 11:55:04 (2.83 MB/s) - ‘unprocessed.tar.gz’ saved [1586365438/1586365438]\n",
            "\n"
          ]
        }
      ],
      "source": [
        "!wget https://www.cs.jhu.edu/~mdredze/datasets/sentiment/unprocessed.tar.gz"
      ]
    },
    {
      "cell_type": "code",
      "execution_count": 2,
      "metadata": {
        "id": "0A7sQMgpFHFz"
      },
      "outputs": [],
      "source": [
        "%%capture\n",
        "!tar -xvf unprocessed.tar.gz"
      ]
    },
    {
      "cell_type": "code",
      "execution_count": 4,
      "metadata": {},
      "outputs": [],
      "source": [
        "import sys\n",
        "sys.path.append('..')"
      ]
    },
    {
      "cell_type": "code",
      "execution_count": 5,
      "metadata": {
        "colab": {
          "base_uri": "https://localhost:8080/",
          "height": 403
        },
        "id": "kQqciefFM4Ko",
        "outputId": "f265fec9-cabe-4190-cc82-0149ffc1c512"
      },
      "outputs": [],
      "source": [
        "import os\n",
        "import pandas as pd\n",
        "import matplotlib.pyplot as plt\n",
        "\n",
        "from sentiment_analysis.data.data_extraction import extract_reviews_and_ratings_to_dataframe\n",
        "from sentiment_analysis.data.data_balancing import balance_dataframe\n",
        "from sentiment_analysis.utils.text_vectorizer import TextVectorizer\n",
        "from sentiment_analysis.utils.generate_report import add_model_report\n",
        "from sentiment_analysis.utils.visualization import plot_confusion_matrix\n",
        "\n",
        "from sklearn.model_selection import train_test_split"
      ]
    },
    {
      "cell_type": "markdown",
      "metadata": {
        "id": "6CIqjjw8Qrc_"
      },
      "source": [
        "# Data pre-processing"
      ]
    },
    {
      "cell_type": "markdown",
      "metadata": {
        "id": "DK-2UWNoRWLx"
      },
      "source": [
        "This code cell aggregates product reviews and ratings from different categories into a single DataFrame. It navigates through a dataset containing categorized 'all.review' files, extracts their data, and compiles it for consolidated analysis."
      ]
    },
    {
      "cell_type": "code",
      "execution_count": 7,
      "metadata": {
        "id": "uo52ilFtKcFU"
      },
      "outputs": [],
      "source": [
        "# Initialize an empty DataFrame to store all reviews\n",
        "all_reviews_df = pd.DataFrame()\n",
        "\n",
        "# Set the path to the dataset directory\n",
        "dataset_path = 'sorted_data'\n",
        "\n",
        "# Iterate over each category directory in the dataset path\n",
        "for category in os.listdir(dataset_path):\n",
        "  # Create the full path to the current category directory\n",
        "  category_path = os.path.join(dataset_path, category)\n",
        "\n",
        "  # Check if the current path is a directory (and not a file)\n",
        "  if os.path.isdir(category_path):\n",
        "    # Iterate over each file or directory within the category directory\n",
        "    for data in os.listdir(category_path):\n",
        "\n",
        "      # Check if the current item is the 'all.review' file\n",
        "      if data == 'all.review':\n",
        "        # Construct the full path to the 'all.review' file\n",
        "        data_path = os.path.join(category_path, data)\n",
        "        # Extract reviews and ratings from the file and store them in a DataFrame\n",
        "        df = extract_reviews_and_ratings_to_dataframe(data_path, category)\n",
        "        # Concatenate the new DataFrame with the existing reviews DataFrame\n",
        "        all_reviews_df = pd.concat([all_reviews_df, df], ignore_index=True)"
      ]
    },
    {
      "cell_type": "markdown",
      "metadata": {
        "id": "eW1uFO1nVTYA"
      },
      "source": [
        "## Products rating analysis"
      ]
    },
    {
      "cell_type": "markdown",
      "metadata": {
        "id": "pV5aUCV-RZmX"
      },
      "source": [
        "This code cell displays the summary information of the aggregated DataFrame `all_reviews_df`, which contains the compiled product reviews, ratings, and a binarized review class."
      ]
    },
    {
      "cell_type": "code",
      "execution_count": 8,
      "metadata": {
        "id": "791f_wU1KiDo"
      },
      "outputs": [
        {
          "name": "stdout",
          "output_type": "stream",
          "text": [
            "<class 'pandas.core.frame.DataFrame'>\n",
            "RangeIndex: 1277462 entries, 0 to 1277461\n",
            "Data columns (total 4 columns):\n",
            " #   Column        Non-Null Count    Dtype \n",
            "---  ------        --------------    ----- \n",
            " 0   review_text   1277462 non-null  object\n",
            " 1   rating        1277462 non-null  object\n",
            " 2   category      1277462 non-null  object\n",
            " 3   review_class  1277462 non-null  object\n",
            "dtypes: object(4)\n",
            "memory usage: 39.0+ MB\n"
          ]
        }
      ],
      "source": [
        "all_reviews_df.info()"
      ]
    },
    {
      "cell_type": "markdown",
      "metadata": {
        "id": "sGrAvjNgS8JV"
      },
      "source": [
        "\n",
        "This code cell analyzes the distribution of product ratings within the all_reviews_df DataFrame. It calls the `value_counts()` method on the `'rating'` column to count the occurrences of each unique rating value"
      ]
    },
    {
      "cell_type": "code",
      "execution_count": 9,
      "metadata": {
        "id": "aQbWUIySMpvD"
      },
      "outputs": [
        {
          "data": {
            "text/plain": [
              "rating\n",
              "5.0    825089\n",
              "4.0    287950\n",
              "1.0     92375\n",
              "2.0     72048\n",
              "Name: count, dtype: int64"
            ]
          },
          "execution_count": 9,
          "metadata": {},
          "output_type": "execute_result"
        }
      ],
      "source": [
        "all_reviews_df['rating'].value_counts()"
      ]
    },
    {
      "cell_type": "markdown",
      "metadata": {
        "id": "IPp_DuowTO46"
      },
      "source": [
        "The output displays a count of each rating score, revealing potential class imbalance within the dataset. A class imbalance is evident as the rating of 5.0 significantly outnumbers the other ratings, which could affect the performance of models trained on this data, as they may become biased towards the more frequent classes. Models may perform well in predicting the majority class but poorly on minority classes."
      ]
    },
    {
      "cell_type": "markdown",
      "metadata": {
        "id": "X0LloPMJUECW"
      },
      "source": [
        "Now, calculates the frequency of each class within the `'review_class'` column of the all_reviews_df"
      ]
    },
    {
      "cell_type": "code",
      "execution_count": 10,
      "metadata": {
        "id": "zMtH2N-t86jN"
      },
      "outputs": [
        {
          "data": {
            "text/plain": [
              "review_class\n",
              "1    1113039\n",
              "0     164423\n",
              "Name: count, dtype: int64"
            ]
          },
          "execution_count": 10,
          "metadata": {},
          "output_type": "execute_result"
        }
      ],
      "source": [
        "all_reviews_df['review_class'].value_counts()"
      ]
    },
    {
      "cell_type": "markdown",
      "metadata": {
        "id": "Nv8ulmSwUWaA"
      },
      "source": [
        "The results indicate the presence of a class imbalance between the two classes within the `review_class` column. Class 1 has a substantially higher count compared to class 0, which can lead to biases. However, using this column for binary classification seems to be better than using only the base ratings, a similar division process was followed in [1]."
      ]
    },
    {
      "cell_type": "markdown",
      "metadata": {
        "id": "5lyj5w0HVZ7g"
      },
      "source": [
        "## Categories analysis"
      ]
    },
    {
      "cell_type": "markdown",
      "metadata": {
        "id": "iETKry14Toyy"
      },
      "source": [
        "The code cell executes a value count operation on the `'category'` column of the `all_reviews_df` DataFrame to quantify the number of reviews per category."
      ]
    },
    {
      "cell_type": "code",
      "execution_count": 11,
      "metadata": {
        "id": "9_ZuTLZyQ6_u"
      },
      "outputs": [
        {
          "data": {
            "text/plain": [
              "category\n",
              "books                     913899\n",
              "music                     149567\n",
              "dvd                       111789\n",
              "video                      33130\n",
              "electronics                21761\n",
              "toys_&_games               11601\n",
              "apparel                     8740\n",
              "sports_&_outdoors           5305\n",
              "baby                        3806\n",
              "magazines                   3723\n",
              "beauty                      2666\n",
              "computer_&_video_games      2605\n",
              "grocery                     2391\n",
              "software                    2088\n",
              "outdoor_living              1504\n",
              "gourmet_food                1463\n",
              "automotive                   702\n",
              "office_products              393\n",
              "musical_instruments          329\n",
              "Name: count, dtype: int64"
            ]
          },
          "execution_count": 11,
          "metadata": {},
          "output_type": "execute_result"
        }
      ],
      "source": [
        "all_reviews_df['category'].value_counts()"
      ]
    },
    {
      "cell_type": "markdown",
      "metadata": {
        "id": "hGtV15uWTyDO"
      },
      "source": [
        "The output indicates a diverse range of product categories, with `'books'` having the highest number of reviews. This distribution is essential for understanding the multi-domain aspect of the dataset. It also highlights the potential need for stratified sampling or rebalancing techniques to address the uneven representation of categories in the training data."
      ]
    },
    {
      "cell_type": "markdown",
      "metadata": {
        "id": "hraT1gj8T_MD"
      },
      "source": [
        "The cell executes a command to randomly sample 20 entries from the all_reviews_df DataFrame. This provides a quick representation of the data, showcasing the review text, ratings, categories, and their associated class."
      ]
    },
    {
      "cell_type": "code",
      "execution_count": 12,
      "metadata": {
        "id": "V_DFMO5CMyyA"
      },
      "outputs": [
        {
          "data": {
            "text/html": [
              "<div>\n",
              "<style scoped>\n",
              "    .dataframe tbody tr th:only-of-type {\n",
              "        vertical-align: middle;\n",
              "    }\n",
              "\n",
              "    .dataframe tbody tr th {\n",
              "        vertical-align: top;\n",
              "    }\n",
              "\n",
              "    .dataframe thead th {\n",
              "        text-align: right;\n",
              "    }\n",
              "</style>\n",
              "<table border=\"1\" class=\"dataframe\">\n",
              "  <thead>\n",
              "    <tr style=\"text-align: right;\">\n",
              "      <th></th>\n",
              "      <th>review_text</th>\n",
              "      <th>rating</th>\n",
              "      <th>category</th>\n",
              "      <th>review_class</th>\n",
              "    </tr>\n",
              "  </thead>\n",
              "  <tbody>\n",
              "    <tr>\n",
              "      <th>1245639</th>\n",
              "      <td>I remember what happened to me when i first li...</td>\n",
              "      <td>5.0</td>\n",
              "      <td>music</td>\n",
              "      <td>1</td>\n",
              "    </tr>\n",
              "    <tr>\n",
              "      <th>219793</th>\n",
              "      <td>Mr. Fishman is straight-forward in delivering ...</td>\n",
              "      <td>5.0</td>\n",
              "      <td>books</td>\n",
              "      <td>1</td>\n",
              "    </tr>\n",
              "    <tr>\n",
              "      <th>224813</th>\n",
              "      <td>This book is no joke. It is really freaky and ...</td>\n",
              "      <td>5.0</td>\n",
              "      <td>books</td>\n",
              "      <td>1</td>\n",
              "    </tr>\n",
              "    <tr>\n",
              "      <th>942829</th>\n",
              "      <td>This book is packed with very useful informati...</td>\n",
              "      <td>5.0</td>\n",
              "      <td>books</td>\n",
              "      <td>1</td>\n",
              "    </tr>\n",
              "    <tr>\n",
              "      <th>809096</th>\n",
              "      <td>As an OT student, I've used this book more in ...</td>\n",
              "      <td>5.0</td>\n",
              "      <td>books</td>\n",
              "      <td>1</td>\n",
              "    </tr>\n",
              "    <tr>\n",
              "      <th>1100257</th>\n",
              "      <td>This book is utterly awful. It is filled with ...</td>\n",
              "      <td>1.0</td>\n",
              "      <td>books</td>\n",
              "      <td>0</td>\n",
              "    </tr>\n",
              "    <tr>\n",
              "      <th>475461</th>\n",
              "      <td>\"The Martians have arrived. Let the war begin....</td>\n",
              "      <td>5.0</td>\n",
              "      <td>books</td>\n",
              "      <td>1</td>\n",
              "    </tr>\n",
              "    <tr>\n",
              "      <th>416549</th>\n",
              "      <td>Being gifted doesn't mean you know everything ...</td>\n",
              "      <td>5.0</td>\n",
              "      <td>books</td>\n",
              "      <td>1</td>\n",
              "    </tr>\n",
              "    <tr>\n",
              "      <th>669116</th>\n",
              "      <td>Mazny years ago the famed author Dr. Alvin Toe...</td>\n",
              "      <td>5.0</td>\n",
              "      <td>books</td>\n",
              "      <td>1</td>\n",
              "    </tr>\n",
              "    <tr>\n",
              "      <th>1246829</th>\n",
              "      <td>Have many Greatest Hits by the Righteous Broth...</td>\n",
              "      <td>5.0</td>\n",
              "      <td>music</td>\n",
              "      <td>1</td>\n",
              "    </tr>\n",
              "    <tr>\n",
              "      <th>407446</th>\n",
              "      <td>I grew up in a city that was building a stage ...</td>\n",
              "      <td>5.0</td>\n",
              "      <td>books</td>\n",
              "      <td>1</td>\n",
              "    </tr>\n",
              "    <tr>\n",
              "      <th>1274395</th>\n",
              "      <td>So I ordered the magazine in Nov. 6, 2005. Its...</td>\n",
              "      <td>1.0</td>\n",
              "      <td>magazines</td>\n",
              "      <td>0</td>\n",
              "    </tr>\n",
              "    <tr>\n",
              "      <th>1090657</th>\n",
              "      <td>Driver is a survivor. A movie stuntman, he mak...</td>\n",
              "      <td>4.0</td>\n",
              "      <td>books</td>\n",
              "      <td>1</td>\n",
              "    </tr>\n",
              "    <tr>\n",
              "      <th>122279</th>\n",
              "      <td>My 1 yr old loves these blocks, and so do I.  ...</td>\n",
              "      <td>5.0</td>\n",
              "      <td>toys_&amp;_games</td>\n",
              "      <td>1</td>\n",
              "    </tr>\n",
              "    <tr>\n",
              "      <th>489789</th>\n",
              "      <td>This is one of the most unique and interesting...</td>\n",
              "      <td>5.0</td>\n",
              "      <td>books</td>\n",
              "      <td>1</td>\n",
              "    </tr>\n",
              "    <tr>\n",
              "      <th>1047825</th>\n",
              "      <td>If I could give this book 15 stars, I certainl...</td>\n",
              "      <td>5.0</td>\n",
              "      <td>books</td>\n",
              "      <td>1</td>\n",
              "    </tr>\n",
              "    <tr>\n",
              "      <th>1115208</th>\n",
              "      <td>I've never done a review for a book before but...</td>\n",
              "      <td>5.0</td>\n",
              "      <td>books</td>\n",
              "      <td>1</td>\n",
              "    </tr>\n",
              "    <tr>\n",
              "      <th>848662</th>\n",
              "      <td>This book tells the story of a girl who can't ...</td>\n",
              "      <td>5.0</td>\n",
              "      <td>books</td>\n",
              "      <td>1</td>\n",
              "    </tr>\n",
              "    <tr>\n",
              "      <th>779002</th>\n",
              "      <td>I'm a very big WWII buff.  I can't seem to get...</td>\n",
              "      <td>5.0</td>\n",
              "      <td>books</td>\n",
              "      <td>1</td>\n",
              "    </tr>\n",
              "    <tr>\n",
              "      <th>50662</th>\n",
              "      <td>How many times have you watched an exercise vi...</td>\n",
              "      <td>5.0</td>\n",
              "      <td>dvd</td>\n",
              "      <td>1</td>\n",
              "    </tr>\n",
              "  </tbody>\n",
              "</table>\n",
              "</div>"
            ],
            "text/plain": [
              "                                               review_text rating  \\\n",
              "1245639  I remember what happened to me when i first li...    5.0   \n",
              "219793   Mr. Fishman is straight-forward in delivering ...    5.0   \n",
              "224813   This book is no joke. It is really freaky and ...    5.0   \n",
              "942829   This book is packed with very useful informati...    5.0   \n",
              "809096   As an OT student, I've used this book more in ...    5.0   \n",
              "1100257  This book is utterly awful. It is filled with ...    1.0   \n",
              "475461   \"The Martians have arrived. Let the war begin....    5.0   \n",
              "416549   Being gifted doesn't mean you know everything ...    5.0   \n",
              "669116   Mazny years ago the famed author Dr. Alvin Toe...    5.0   \n",
              "1246829  Have many Greatest Hits by the Righteous Broth...    5.0   \n",
              "407446   I grew up in a city that was building a stage ...    5.0   \n",
              "1274395  So I ordered the magazine in Nov. 6, 2005. Its...    1.0   \n",
              "1090657  Driver is a survivor. A movie stuntman, he mak...    4.0   \n",
              "122279   My 1 yr old loves these blocks, and so do I.  ...    5.0   \n",
              "489789   This is one of the most unique and interesting...    5.0   \n",
              "1047825  If I could give this book 15 stars, I certainl...    5.0   \n",
              "1115208  I've never done a review for a book before but...    5.0   \n",
              "848662   This book tells the story of a girl who can't ...    5.0   \n",
              "779002   I'm a very big WWII buff.  I can't seem to get...    5.0   \n",
              "50662    How many times have you watched an exercise vi...    5.0   \n",
              "\n",
              "             category review_class  \n",
              "1245639         music            1  \n",
              "219793          books            1  \n",
              "224813          books            1  \n",
              "942829          books            1  \n",
              "809096          books            1  \n",
              "1100257         books            0  \n",
              "475461          books            1  \n",
              "416549          books            1  \n",
              "669116          books            1  \n",
              "1246829         music            1  \n",
              "407446          books            1  \n",
              "1274395     magazines            0  \n",
              "1090657         books            1  \n",
              "122279   toys_&_games            1  \n",
              "489789          books            1  \n",
              "1047825         books            1  \n",
              "1115208         books            1  \n",
              "848662          books            1  \n",
              "779002          books            1  \n",
              "50662             dvd            1  "
            ]
          },
          "execution_count": 12,
          "metadata": {},
          "output_type": "execute_result"
        }
      ],
      "source": [
        "all_reviews_df.sample(20)"
      ]
    },
    {
      "cell_type": "markdown",
      "metadata": {
        "id": "chOzpm_bUN-3"
      },
      "source": [
        "With the data sampling, we observe that categories with fewer reviews might require special attention to avoid model bias. As a strategic next step, we consider selecting the top five most voluminous categories for training the classifiers to ensure robust performance across the dataset's most represented domains."
      ]
    },
    {
      "cell_type": "code",
      "execution_count": 13,
      "metadata": {
        "id": "juw8etJIZBRb"
      },
      "outputs": [
        {
          "data": {
            "text/plain": [
              "Index(['books', 'music', 'dvd', 'video', 'electronics'], dtype='object', name='category')"
            ]
          },
          "execution_count": 13,
          "metadata": {},
          "output_type": "execute_result"
        }
      ],
      "source": [
        "top_categories = all_reviews_df['category'].value_counts().nlargest(5).index\n",
        "top_categories"
      ]
    },
    {
      "cell_type": "markdown",
      "metadata": {
        "id": "5Q4_rcXKWFkN"
      },
      "source": [
        " Iterates over the top_categories list, filtering the `all_reviews_df` DataFrame to create subsets of data specific to each category."
      ]
    },
    {
      "cell_type": "code",
      "execution_count": 14,
      "metadata": {
        "id": "5odlwLzeckm_"
      },
      "outputs": [],
      "source": [
        "category_dfs = {category: all_reviews_df[all_reviews_df['category'] == category] for category in top_categories}\n",
        "books_df = category_dfs['books']\n",
        "music_df = category_dfs['music']\n",
        "dvd_df = category_dfs['dvd']\n",
        "video_df = category_dfs['video']\n",
        "electronics_df = category_dfs['electronics']"
      ]
    },
    {
      "cell_type": "markdown",
      "metadata": {
        "id": "35JVIES5WlyF"
      },
      "source": [
        "The following cell will show the distribution of review counts across the top categories."
      ]
    },
    {
      "cell_type": "code",
      "execution_count": 15,
      "metadata": {
        "id": "xVv8gM3xKpeQ"
      },
      "outputs": [
        {
          "data": {
            "image/png": "[encoded data removed]",
            "text/plain": [
              "<Figure size 640x480 with 1 Axes>"
            ]
          },
          "metadata": {},
          "output_type": "display_data"
        }
      ],
      "source": [
        "categories = ['books', 'music', 'dvd', 'video', 'electronics']\n",
        "review_counts = [len(books_df), len(music_df), len(dvd_df), len(video_df), len(electronics_df)]\n",
        "\n",
        "plt.bar(categories, review_counts)\n",
        "plt.xlabel('Category')\n",
        "plt.ylabel('Number of Reviews')\n",
        "plt.title('Review Counts by Category')\n",
        "plt.show()"
      ]
    },
    {
      "cell_type": "markdown",
      "metadata": {
        "id": "OuowDqraWvjt"
      },
      "source": [
        "The resulting bar chart offers a comparative perspective on the number of reviews per category. It clearly demonstrates that the `'books'` category dominates the dataset with a significantly higher review count, followed by a steep drop-off in volume for the remaining categories."
      ]
    },
    {
      "cell_type": "code",
      "execution_count": 16,
      "metadata": {
        "id": "S_qhr1t6Nt0e"
      },
      "outputs": [],
      "source": [
        "dataframes = [books_df, music_df, dvd_df, video_df, electronics_df]\n",
        "categories = ['Books', 'Music', 'DVD', 'Video', 'Electronics']"
      ]
    },
    {
      "cell_type": "markdown",
      "metadata": {
        "id": "BmzFJU9lXI71"
      },
      "source": [
        "Append dataframes to new list for future easy data manipulation. Also, assigns each a category tag."
      ]
    },
    {
      "cell_type": "markdown",
      "metadata": {
        "id": "w3KLt4QnX8td"
      },
      "source": [
        "This code cell iterates over a collection of DataFrames, each corresponding to a different product category, and calculates the frequency of each class within the review_class column for each category."
      ]
    },
    {
      "cell_type": "code",
      "execution_count": 17,
      "metadata": {
        "id": "AAg4LQu8NJRT"
      },
      "outputs": [
        {
          "name": "stdout",
          "output_type": "stream",
          "text": [
            "Dataframe: Books\n",
            "review_class\n",
            "1    797413\n",
            "0    116486\n",
            "Name: count, dtype: int64 \n",
            "\n",
            "Dataframe: Music\n",
            "review_class\n",
            "1    136667\n",
            "0     12900\n",
            "Name: count, dtype: int64 \n",
            "\n",
            "Dataframe: DVD\n",
            "review_class\n",
            "1    95854\n",
            "0    15935\n",
            "Name: count, dtype: int64 \n",
            "\n",
            "Dataframe: Video\n",
            "review_class\n",
            "1    27911\n",
            "0     5219\n",
            "Name: count, dtype: int64 \n",
            "\n",
            "Dataframe: Electronics\n",
            "review_class\n",
            "1    16969\n",
            "0     4792\n",
            "Name: count, dtype: int64 \n",
            "\n"
          ]
        }
      ],
      "source": [
        "for i, df in enumerate(dataframes):\n",
        "  print(f\"Dataframe: {categories[i]}\")\n",
        "  print(df['review_class'].value_counts(), '\\n')"
      ]
    },
    {
      "cell_type": "markdown",
      "metadata": {
        "id": "kKjVLYTuYEBp"
      },
      "source": [
        "The printed output offers a clear breakdown of sentiment classes across different categories, revealing significant class imbalances within each one"
      ]
    },
    {
      "cell_type": "markdown",
      "metadata": {
        "id": "PHFSDMOPXzE1"
      },
      "source": [
        "## Dataset Balancing"
      ]
    },
    {
      "cell_type": "markdown",
      "metadata": {
        "id": "yemMULpiYore"
      },
      "source": [
        "The code in this cell apply the function balance_dataframe to each category-specific DataFrame within a collection named dataframes. After balancing, proceeds to drop the `'rating'` and `'category'` columns to streamline the data for classification purposes."
      ]
    },
    {
      "cell_type": "code",
      "execution_count": 18,
      "metadata": {
        "id": "J8-oVrZCxwpt"
      },
      "outputs": [],
      "source": [
        "balanced_dataframes = [balance_dataframe(df, 'review_class', random_state=123).drop('rating', axis=1).drop('category', axis=1) for df in dataframes]"
      ]
    },
    {
      "cell_type": "code",
      "execution_count": 19,
      "metadata": {
        "id": "LZ1ngis57gSx"
      },
      "outputs": [
        {
          "data": {
            "text/html": [
              "<div>\n",
              "<style scoped>\n",
              "    .dataframe tbody tr th:only-of-type {\n",
              "        vertical-align: middle;\n",
              "    }\n",
              "\n",
              "    .dataframe tbody tr th {\n",
              "        vertical-align: top;\n",
              "    }\n",
              "\n",
              "    .dataframe thead th {\n",
              "        text-align: right;\n",
              "    }\n",
              "</style>\n",
              "<table border=\"1\" class=\"dataframe\">\n",
              "  <thead>\n",
              "    <tr style=\"text-align: right;\">\n",
              "      <th></th>\n",
              "      <th>review_text</th>\n",
              "      <th>review_class</th>\n",
              "    </tr>\n",
              "  </thead>\n",
              "  <tbody>\n",
              "    <tr>\n",
              "      <th>114301</th>\n",
              "      <td>ustedes me dijeron que no tenian el libro,.¿qu...</td>\n",
              "      <td>0</td>\n",
              "    </tr>\n",
              "    <tr>\n",
              "      <th>53536</th>\n",
              "      <td>HB: \"How did you come to name this collection ...</td>\n",
              "      <td>1</td>\n",
              "    </tr>\n",
              "    <tr>\n",
              "      <th>97993</th>\n",
              "      <td>Please do not be decieved into believing the l...</td>\n",
              "      <td>0</td>\n",
              "    </tr>\n",
              "    <tr>\n",
              "      <th>244339</th>\n",
              "      <td>How could a foodie like me not love this book?...</td>\n",
              "      <td>1</td>\n",
              "    </tr>\n",
              "    <tr>\n",
              "      <th>87191</th>\n",
              "      <td>I am always surprised that J.A. Jance is able ...</td>\n",
              "      <td>1</td>\n",
              "    </tr>\n",
              "    <tr>\n",
              "      <th>42700</th>\n",
              "      <td>\"The neo-conservatives run the Pentagon\", so s...</td>\n",
              "      <td>0</td>\n",
              "    </tr>\n",
              "    <tr>\n",
              "      <th>134215</th>\n",
              "      <td>I was somehow forced to rate the book one star...</td>\n",
              "      <td>0</td>\n",
              "    </tr>\n",
              "    <tr>\n",
              "      <th>219790</th>\n",
              "      <td>We found the facinating, with places we never ...</td>\n",
              "      <td>1</td>\n",
              "    </tr>\n",
              "    <tr>\n",
              "      <th>138801</th>\n",
              "      <td>If you are a man, and you are deeply suffering...</td>\n",
              "      <td>1</td>\n",
              "    </tr>\n",
              "    <tr>\n",
              "      <th>153076</th>\n",
              "      <td>Dr. Yahnke's book is very accessible, love her...</td>\n",
              "      <td>1</td>\n",
              "    </tr>\n",
              "    <tr>\n",
              "      <th>168382</th>\n",
              "      <td>None of us in this life are allowed the luxury...</td>\n",
              "      <td>1</td>\n",
              "    </tr>\n",
              "    <tr>\n",
              "      <th>75778</th>\n",
              "      <td>This was a birthday present for my great nephe...</td>\n",
              "      <td>1</td>\n",
              "    </tr>\n",
              "    <tr>\n",
              "      <th>172259</th>\n",
              "      <td>I have been wanting to read this book since it...</td>\n",
              "      <td>0</td>\n",
              "    </tr>\n",
              "    <tr>\n",
              "      <th>71049</th>\n",
              "      <td>A good overall book, but with a lot of informa...</td>\n",
              "      <td>1</td>\n",
              "    </tr>\n",
              "    <tr>\n",
              "      <th>73163</th>\n",
              "      <td>I loved this book.  It was short but packed wi...</td>\n",
              "      <td>1</td>\n",
              "    </tr>\n",
              "    <tr>\n",
              "      <th>49286</th>\n",
              "      <td>I fail to understand all of the hoopla about S...</td>\n",
              "      <td>0</td>\n",
              "    </tr>\n",
              "    <tr>\n",
              "      <th>63548</th>\n",
              "      <td>I should have known that decorating \"Martha-st...</td>\n",
              "      <td>0</td>\n",
              "    </tr>\n",
              "    <tr>\n",
              "      <th>89166</th>\n",
              "      <td>As a white man, this book offended me several ...</td>\n",
              "      <td>0</td>\n",
              "    </tr>\n",
              "    <tr>\n",
              "      <th>235859</th>\n",
              "      <td>This is a great, great book. Having studied sa...</td>\n",
              "      <td>1</td>\n",
              "    </tr>\n",
              "    <tr>\n",
              "      <th>150927</th>\n",
              "      <td>Echoing --corinne--'s review, this book was to...</td>\n",
              "      <td>0</td>\n",
              "    </tr>\n",
              "  </tbody>\n",
              "</table>\n",
              "</div>"
            ],
            "text/plain": [
              "                                              review_text review_class\n",
              "114301  ustedes me dijeron que no tenian el libro,.¿qu...            0\n",
              "53536   HB: \"How did you come to name this collection ...            1\n",
              "97993   Please do not be decieved into believing the l...            0\n",
              "244339  How could a foodie like me not love this book?...            1\n",
              "87191   I am always surprised that J.A. Jance is able ...            1\n",
              "42700   \"The neo-conservatives run the Pentagon\", so s...            0\n",
              "134215  I was somehow forced to rate the book one star...            0\n",
              "219790  We found the facinating, with places we never ...            1\n",
              "138801  If you are a man, and you are deeply suffering...            1\n",
              "153076  Dr. Yahnke's book is very accessible, love her...            1\n",
              "168382  None of us in this life are allowed the luxury...            1\n",
              "75778   This was a birthday present for my great nephe...            1\n",
              "172259  I have been wanting to read this book since it...            0\n",
              "71049   A good overall book, but with a lot of informa...            1\n",
              "73163   I loved this book.  It was short but packed wi...            1\n",
              "49286   I fail to understand all of the hoopla about S...            0\n",
              "63548   I should have known that decorating \"Martha-st...            0\n",
              "89166   As a white man, this book offended me several ...            0\n",
              "235859  This is a great, great book. Having studied sa...            1\n",
              "150927  Echoing --corinne--'s review, this book was to...            0"
            ]
          },
          "execution_count": 19,
          "metadata": {},
          "output_type": "execute_result"
        }
      ],
      "source": [
        "balanced_dataframes[0].sample(20)"
      ]
    },
    {
      "cell_type": "code",
      "execution_count": 20,
      "metadata": {
        "id": "dZw8cOQ9zA1K"
      },
      "outputs": [
        {
          "name": "stdout",
          "output_type": "stream",
          "text": [
            "Dataframe: Books\n",
            "review_class\n",
            "1    150532\n",
            "0    150532\n",
            "Name: count, dtype: int64 \n",
            "\n",
            "Dataframe: Music\n",
            "review_class\n",
            "0    19088\n",
            "1    19088\n",
            "Name: count, dtype: int64 \n",
            "\n",
            "Dataframe: DVD\n",
            "review_class\n",
            "1    19930\n",
            "0    19930\n",
            "Name: count, dtype: int64 \n",
            "\n",
            "Dataframe: Video\n",
            "review_class\n",
            "0    6353\n",
            "1    6353\n",
            "Name: count, dtype: int64 \n",
            "\n",
            "Dataframe: Electronics\n",
            "review_class\n",
            "1    5400\n",
            "0    5400\n",
            "Name: count, dtype: int64 \n",
            "\n"
          ]
        }
      ],
      "source": [
        "for i, df in enumerate(balanced_dataframes):\n",
        "  print(f\"Dataframe: {categories[i]}\")\n",
        "  print(df['review_class'].value_counts(), '\\n')"
      ]
    },
    {
      "cell_type": "markdown",
      "metadata": {
        "id": "kCNIzns2ZXAh"
      },
      "source": [
        "The output shows an equal number of positive (1) and negative (0) review classes for each category, confirming the successful application of the balancing process."
      ]
    },
    {
      "cell_type": "markdown",
      "metadata": {
        "id": "PR5PUgp_Zh4n"
      },
      "source": [
        "# Training and Test data preparation"
      ]
    },
    {
      "cell_type": "markdown",
      "metadata": {
        "id": "xF5yoXrqaIOa"
      },
      "source": [
        "Iterates through each DataFrame in balanced_dataframes to perform a train-test split. This split is stratified by the `review_class` column to maintain the balanced class distribution in both training and testing sets."
      ]
    },
    {
      "cell_type": "code",
      "execution_count": 21,
      "metadata": {
        "id": "uYTTGzhESZ6o"
      },
      "outputs": [],
      "source": [
        "all_datasets = []\n",
        "\n",
        "for df in balanced_dataframes:\n",
        "  all_datasets.append(train_test_split(df, stratify=df['review_class'], test_size=0.2, random_state=42))"
      ]
    },
    {
      "cell_type": "code",
      "execution_count": 22,
      "metadata": {
        "id": "KOsIZaykPTS5"
      },
      "outputs": [
        {
          "name": "stdout",
          "output_type": "stream",
          "text": [
            "Dataset: Books\n",
            "Training: 240851\n",
            "Test: 60213 \n",
            "\n",
            "Dataset: Music\n",
            "Training: 30540\n",
            "Test: 7636 \n",
            "\n",
            "Dataset: DVD\n",
            "Training: 31888\n",
            "Test: 7972 \n",
            "\n",
            "Dataset: Video\n",
            "Training: 10164\n",
            "Test: 2542 \n",
            "\n",
            "Dataset: Electronics\n",
            "Training: 8640\n",
            "Test: 2160 \n",
            "\n"
          ]
        }
      ],
      "source": [
        "for i, dataset in enumerate(all_datasets):\n",
        "  print(f'Dataset: {categories[i]}')\n",
        "  print(f'Training: {len(dataset[0])}')\n",
        "  print(f'Test: {len(dataset[1])}', '\\n')"
      ]
    },
    {
      "cell_type": "markdown",
      "metadata": {
        "id": "rrhcFVhlbG7y"
      },
      "source": [
        "The printed output provides a concise summary of the number of samples in the training and test datasets for each category."
      ]
    },
    {
      "cell_type": "markdown",
      "metadata": {
        "id": "TMDIDMqIbLML"
      },
      "source": [
        "# Classification Models Training"
      ]
    },
    {
      "cell_type": "markdown",
      "metadata": {
        "id": "vLiLzKen7G_3"
      },
      "source": [
        "## Book Category classification"
      ]
    },
    {
      "cell_type": "code",
      "execution_count": null,
      "metadata": {
        "id": "uFeIe9GMP60a"
      },
      "outputs": [],
      "source": [
        "from sklearn.naive_bayes import MultinomialNB\n",
        "from sklearn.ensemble import RandomForestClassifier\n",
        "from sklearn.linear_model import SGDClassifier\n",
        "\n",
        "from sklearn.metrics import classification_report"
      ]
    },
    {
      "cell_type": "markdown",
      "metadata": {
        "id": "9ilSYJHjboUH"
      },
      "source": [
        "Obtain the book category corresponding data for training and evaluation."
      ]
    },
    {
      "cell_type": "code",
      "execution_count": null,
      "metadata": {
        "id": "k8eP5Pvf7J3C"
      },
      "outputs": [],
      "source": [
        "book_training_dataset = all_datasets[0][0]\n",
        "book_test_dataset = all_datasets[0][1]"
      ]
    },
    {
      "cell_type": "code",
      "execution_count": null,
      "metadata": {
        "colab": {
          "base_uri": "https://localhost:8080/",
          "height": 423
        },
        "id": "ANK7qIAv8nn8",
        "outputId": "fb604c45-9b00-49f8-9081-3d46f074a54b"
      },
      "outputs": [
        {
          "data": {
            "text/html": [
              "\n",
              "  <div id=\"df-94187b23-9054-4152-abc2-a691b47c487e\" class=\"colab-df-container\">\n",
              "    <div>\n",
              "<style scoped>\n",
              "    .dataframe tbody tr th:only-of-type {\n",
              "        vertical-align: middle;\n",
              "    }\n",
              "\n",
              "    .dataframe tbody tr th {\n",
              "        vertical-align: top;\n",
              "    }\n",
              "\n",
              "    .dataframe thead th {\n",
              "        text-align: right;\n",
              "    }\n",
              "</style>\n",
              "<table border=\"1\" class=\"dataframe\">\n",
              "  <thead>\n",
              "    <tr style=\"text-align: right;\">\n",
              "      <th></th>\n",
              "      <th>review_text</th>\n",
              "      <th>review_class</th>\n",
              "    </tr>\n",
              "  </thead>\n",
              "  <tbody>\n",
              "    <tr>\n",
              "      <th>135962</th>\n",
              "      <td>This book is one of the most interesting that ...</td>\n",
              "      <td>1</td>\n",
              "    </tr>\n",
              "    <tr>\n",
              "      <th>152816</th>\n",
              "      <td>Pascual Duarte grew up in brutal and brutalizi...</td>\n",
              "      <td>1</td>\n",
              "    </tr>\n",
              "    <tr>\n",
              "      <th>51840</th>\n",
              "      <td>I also reviewed Graysmith's \"Zodiac\" and said ...</td>\n",
              "      <td>0</td>\n",
              "    </tr>\n",
              "    <tr>\n",
              "      <th>280295</th>\n",
              "      <td>Although Robin McKinley's stock heroine of \"ta...</td>\n",
              "      <td>0</td>\n",
              "    </tr>\n",
              "    <tr>\n",
              "      <th>174311</th>\n",
              "      <td>An interesting book if you are curious about e...</td>\n",
              "      <td>1</td>\n",
              "    </tr>\n",
              "    <tr>\n",
              "      <th>...</th>\n",
              "      <td>...</td>\n",
              "      <td>...</td>\n",
              "    </tr>\n",
              "    <tr>\n",
              "      <th>130482</th>\n",
              "      <td>Is our current administration intentionally ly...</td>\n",
              "      <td>1</td>\n",
              "    </tr>\n",
              "    <tr>\n",
              "      <th>128979</th>\n",
              "      <td>This book is a self-indulgent wallow in the mi...</td>\n",
              "      <td>0</td>\n",
              "    </tr>\n",
              "    <tr>\n",
              "      <th>263660</th>\n",
              "      <td>The Voyages of Dr. Dolittle is the story of a ...</td>\n",
              "      <td>1</td>\n",
              "    </tr>\n",
              "    <tr>\n",
              "      <th>122064</th>\n",
              "      <td>Love them!  This one is so cute! We can't wait...</td>\n",
              "      <td>1</td>\n",
              "    </tr>\n",
              "    <tr>\n",
              "      <th>89965</th>\n",
              "      <td>I'm a complete geek and avid reader of hard sc...</td>\n",
              "      <td>0</td>\n",
              "    </tr>\n",
              "  </tbody>\n",
              "</table>\n",
              "<p>240851 rows × 2 columns</p>\n",
              "</div>\n",
              "    <div class=\"colab-df-buttons\">\n",
              "\n",
              "  <div class=\"colab-df-container\">\n",
              "    <button class=\"colab-df-convert\" onclick=\"convertToInteractive('df-94187b23-9054-4152-abc2-a691b47c487e')\"\n",
              "            title=\"Convert this dataframe to an interactive table.\"\n",
              "            style=\"display:none;\">\n",
              "\n",
              "  <svg xmlns=\"http://www.w3.org/2000/svg\" height=\"24px\" viewBox=\"0 -960 960 960\">\n",
              "    <path d=\"M120-120v-720h720v720H120Zm60-500h600v-160H180v160Zm220 220h160v-160H400v160Zm0 220h160v-160H400v160ZM180-400h160v-160H180v160Zm440 0h160v-160H620v160ZM180-180h160v-160H180v160Zm440 0h160v-160H620v160Z\"/>\n",
              "  </svg>\n",
              "    </button>\n",
              "\n",
              "  <style>\n",
              "    .colab-df-container {\n",
              "      display:flex;\n",
              "      gap: 12px;\n",
              "    }\n",
              "\n",
              "    .colab-df-convert {\n",
              "      background-color: #E8F0FE;\n",
              "      border: none;\n",
              "      border-radius: 50%;\n",
              "      cursor: pointer;\n",
              "      display: none;\n",
              "      fill: #1967D2;\n",
              "      height: 32px;\n",
              "      padding: 0 0 0 0;\n",
              "      width: 32px;\n",
              "    }\n",
              "\n",
              "    .colab-df-convert:hover {\n",
              "      background-color: #E2EBFA;\n",
              "      box-shadow: 0px 1px 2px rgba(60, 64, 67, 0.3), 0px 1px 3px 1px rgba(60, 64, 67, 0.15);\n",
              "      fill: #174EA6;\n",
              "    }\n",
              "\n",
              "    .colab-df-buttons div {\n",
              "      margin-bottom: 4px;\n",
              "    }\n",
              "\n",
              "    [theme=dark] .colab-df-convert {\n",
              "      background-color: #3B4455;\n",
              "      fill: #D2E3FC;\n",
              "    }\n",
              "\n",
              "    [theme=dark] .colab-df-convert:hover {\n",
              "      background-color: #434B5C;\n",
              "      box-shadow: 0px 1px 3px 1px rgba(0, 0, 0, 0.15);\n",
              "      filter: drop-shadow(0px 1px 2px rgba(0, 0, 0, 0.3));\n",
              "      fill: #FFFFFF;\n",
              "    }\n",
              "  </style>\n",
              "\n",
              "    <script>\n",
              "      const buttonEl =\n",
              "        document.querySelector('#df-94187b23-9054-4152-abc2-a691b47c487e button.colab-df-convert');\n",
              "      buttonEl.style.display =\n",
              "        google.colab.kernel.accessAllowed ? 'block' : 'none';\n",
              "\n",
              "      async function convertToInteractive(key) {\n",
              "        const element = document.querySelector('#df-94187b23-9054-4152-abc2-a691b47c487e');\n",
              "        const dataTable =\n",
              "          await google.colab.kernel.invokeFunction('convertToInteractive',\n",
              "                                                    [key], {});\n",
              "        if (!dataTable) return;\n",
              "\n",
              "        const docLinkHtml = 'Like what you see? Visit the ' +\n",
              "          '<a target=\"_blank\" href=https://colab.research.google.com/notebooks/data_table.ipynb>data table notebook</a>'\n",
              "          + ' to learn more about interactive tables.';\n",
              "        element.innerHTML = '';\n",
              "        dataTable['output_type'] = 'display_data';\n",
              "        await google.colab.output.renderOutput(dataTable, element);\n",
              "        const docLink = document.createElement('div');\n",
              "        docLink.innerHTML = docLinkHtml;\n",
              "        element.appendChild(docLink);\n",
              "      }\n",
              "    </script>\n",
              "  </div>\n",
              "\n",
              "\n",
              "<div id=\"df-29b86cd7-7778-4315-86c3-d2bd832919e6\">\n",
              "  <button class=\"colab-df-quickchart\" onclick=\"quickchart('df-29b86cd7-7778-4315-86c3-d2bd832919e6')\"\n",
              "            title=\"Suggest charts\"\n",
              "            style=\"display:none;\">\n",
              "\n",
              "<svg xmlns=\"http://www.w3.org/2000/svg\" height=\"24px\"viewBox=\"0 0 24 24\"\n",
              "     width=\"24px\">\n",
              "    <g>\n",
              "        <path d=\"M19 3H5c-1.1 0-2 .9-2 2v14c0 1.1.9 2 2 2h14c1.1 0 2-.9 2-2V5c0-1.1-.9-2-2-2zM9 17H7v-7h2v7zm4 0h-2V7h2v10zm4 0h-2v-4h2v4z\"/>\n",
              "    </g>\n",
              "</svg>\n",
              "  </button>\n",
              "\n",
              "<style>\n",
              "  .colab-df-quickchart {\n",
              "      --bg-color: #E8F0FE;\n",
              "      --fill-color: #1967D2;\n",
              "      --hover-bg-color: #E2EBFA;\n",
              "      --hover-fill-color: #174EA6;\n",
              "      --disabled-fill-color: #AAA;\n",
              "      --disabled-bg-color: #DDD;\n",
              "  }\n",
              "\n",
              "  [theme=dark] .colab-df-quickchart {\n",
              "      --bg-color: #3B4455;\n",
              "      --fill-color: #D2E3FC;\n",
              "      --hover-bg-color: #434B5C;\n",
              "      --hover-fill-color: #FFFFFF;\n",
              "      --disabled-bg-color: #3B4455;\n",
              "      --disabled-fill-color: #666;\n",
              "  }\n",
              "\n",
              "  .colab-df-quickchart {\n",
              "    background-color: var(--bg-color);\n",
              "    border: none;\n",
              "    border-radius: 50%;\n",
              "    cursor: pointer;\n",
              "    display: none;\n",
              "    fill: var(--fill-color);\n",
              "    height: 32px;\n",
              "    padding: 0;\n",
              "    width: 32px;\n",
              "  }\n",
              "\n",
              "  .colab-df-quickchart:hover {\n",
              "    background-color: var(--hover-bg-color);\n",
              "    box-shadow: 0 1px 2px rgba(60, 64, 67, 0.3), 0 1px 3px 1px rgba(60, 64, 67, 0.15);\n",
              "    fill: var(--button-hover-fill-color);\n",
              "  }\n",
              "\n",
              "  .colab-df-quickchart-complete:disabled,\n",
              "  .colab-df-quickchart-complete:disabled:hover {\n",
              "    background-color: var(--disabled-bg-color);\n",
              "    fill: var(--disabled-fill-color);\n",
              "    box-shadow: none;\n",
              "  }\n",
              "\n",
              "  .colab-df-spinner {\n",
              "    border: 2px solid var(--fill-color);\n",
              "    border-color: transparent;\n",
              "    border-bottom-color: var(--fill-color);\n",
              "    animation:\n",
              "      spin 1s steps(1) infinite;\n",
              "  }\n",
              "\n",
              "  @keyframes spin {\n",
              "    0% {\n",
              "      border-color: transparent;\n",
              "      border-bottom-color: var(--fill-color);\n",
              "      border-left-color: var(--fill-color);\n",
              "    }\n",
              "    20% {\n",
              "      border-color: transparent;\n",
              "      border-left-color: var(--fill-color);\n",
              "      border-top-color: var(--fill-color);\n",
              "    }\n",
              "    30% {\n",
              "      border-color: transparent;\n",
              "      border-left-color: var(--fill-color);\n",
              "      border-top-color: var(--fill-color);\n",
              "      border-right-color: var(--fill-color);\n",
              "    }\n",
              "    40% {\n",
              "      border-color: transparent;\n",
              "      border-right-color: var(--fill-color);\n",
              "      border-top-color: var(--fill-color);\n",
              "    }\n",
              "    60% {\n",
              "      border-color: transparent;\n",
              "      border-right-color: var(--fill-color);\n",
              "    }\n",
              "    80% {\n",
              "      border-color: transparent;\n",
              "      border-right-color: var(--fill-color);\n",
              "      border-bottom-color: var(--fill-color);\n",
              "    }\n",
              "    90% {\n",
              "      border-color: transparent;\n",
              "      border-bottom-color: var(--fill-color);\n",
              "    }\n",
              "  }\n",
              "</style>\n",
              "\n",
              "  <script>\n",
              "    async function quickchart(key) {\n",
              "      const quickchartButtonEl =\n",
              "        document.querySelector('#' + key + ' button');\n",
              "      quickchartButtonEl.disabled = true;  // To prevent multiple clicks.\n",
              "      quickchartButtonEl.classList.add('colab-df-spinner');\n",
              "      try {\n",
              "        const charts = await google.colab.kernel.invokeFunction(\n",
              "            'suggestCharts', [key], {});\n",
              "      } catch (error) {\n",
              "        console.error('Error during call to suggestCharts:', error);\n",
              "      }\n",
              "      quickchartButtonEl.classList.remove('colab-df-spinner');\n",
              "      quickchartButtonEl.classList.add('colab-df-quickchart-complete');\n",
              "    }\n",
              "    (() => {\n",
              "      let quickchartButtonEl =\n",
              "        document.querySelector('#df-29b86cd7-7778-4315-86c3-d2bd832919e6 button');\n",
              "      quickchartButtonEl.style.display =\n",
              "        google.colab.kernel.accessAllowed ? 'block' : 'none';\n",
              "    })();\n",
              "  </script>\n",
              "</div>\n",
              "\n",
              "  <div id=\"id_b62b184c-d597-42e6-89ae-99158b13e706\">\n",
              "    <style>\n",
              "      .colab-df-generate {\n",
              "        background-color: #E8F0FE;\n",
              "        border: none;\n",
              "        border-radius: 50%;\n",
              "        cursor: pointer;\n",
              "        display: none;\n",
              "        fill: #1967D2;\n",
              "        height: 32px;\n",
              "        padding: 0 0 0 0;\n",
              "        width: 32px;\n",
              "      }\n",
              "\n",
              "      .colab-df-generate:hover {\n",
              "        background-color: #E2EBFA;\n",
              "        box-shadow: 0px 1px 2px rgba(60, 64, 67, 0.3), 0px 1px 3px 1px rgba(60, 64, 67, 0.15);\n",
              "        fill: #174EA6;\n",
              "      }\n",
              "\n",
              "      [theme=dark] .colab-df-generate {\n",
              "        background-color: #3B4455;\n",
              "        fill: #D2E3FC;\n",
              "      }\n",
              "\n",
              "      [theme=dark] .colab-df-generate:hover {\n",
              "        background-color: #434B5C;\n",
              "        box-shadow: 0px 1px 3px 1px rgba(0, 0, 0, 0.15);\n",
              "        filter: drop-shadow(0px 1px 2px rgba(0, 0, 0, 0.3));\n",
              "        fill: #FFFFFF;\n",
              "      }\n",
              "    </style>\n",
              "    <button class=\"colab-df-generate\" onclick=\"generateWithVariable('book_training_dataset')\"\n",
              "            title=\"Generate code using this dataframe.\"\n",
              "            style=\"display:none;\">\n",
              "\n",
              "  <svg xmlns=\"http://www.w3.org/2000/svg\" height=\"24px\"viewBox=\"0 0 24 24\"\n",
              "       width=\"24px\">\n",
              "    <path d=\"M7,19H8.4L18.45,9,17,7.55,7,17.6ZM5,21V16.75L18.45,3.32a2,2,0,0,1,2.83,0l1.4,1.43a1.91,1.91,0,0,1,.58,1.4,1.91,1.91,0,0,1-.58,1.4L9.25,21ZM18.45,9,17,7.55Zm-12,3A5.31,5.31,0,0,0,4.9,8.1,5.31,5.31,0,0,0,1,6.5,5.31,5.31,0,0,0,4.9,4.9,5.31,5.31,0,0,0,6.5,1,5.31,5.31,0,0,0,8.1,4.9,5.31,5.31,0,0,0,12,6.5,5.46,5.46,0,0,0,6.5,12Z\"/>\n",
              "  </svg>\n",
              "    </button>\n",
              "    <script>\n",
              "      (() => {\n",
              "      const buttonEl =\n",
              "        document.querySelector('#id_b62b184c-d597-42e6-89ae-99158b13e706 button.colab-df-generate');\n",
              "      buttonEl.style.display =\n",
              "        google.colab.kernel.accessAllowed ? 'block' : 'none';\n",
              "\n",
              "      buttonEl.onclick = () => {\n",
              "        google.colab.notebook.generateWithVariable('book_training_dataset');\n",
              "      }\n",
              "      })();\n",
              "    </script>\n",
              "  </div>\n",
              "\n",
              "    </div>\n",
              "  </div>\n"
            ],
            "text/plain": [
              "                                              review_text review_class\n",
              "135962  This book is one of the most interesting that ...            1\n",
              "152816  Pascual Duarte grew up in brutal and brutalizi...            1\n",
              "51840   I also reviewed Graysmith's \"Zodiac\" and said ...            0\n",
              "280295  Although Robin McKinley's stock heroine of \"ta...            0\n",
              "174311  An interesting book if you are curious about e...            1\n",
              "...                                                   ...          ...\n",
              "130482  Is our current administration intentionally ly...            1\n",
              "128979  This book is a self-indulgent wallow in the mi...            0\n",
              "263660  The Voyages of Dr. Dolittle is the story of a ...            1\n",
              "122064  Love them!  This one is so cute! We can't wait...            1\n",
              "89965   I'm a complete geek and avid reader of hard sc...            0\n",
              "\n",
              "[240851 rows x 2 columns]"
            ]
          },
          "execution_count": 24,
          "metadata": {},
          "output_type": "execute_result"
        }
      ],
      "source": [
        "book_training_dataset"
      ]
    },
    {
      "cell_type": "code",
      "execution_count": null,
      "metadata": {
        "colab": {
          "base_uri": "https://localhost:8080/",
          "height": 423
        },
        "id": "xX4P1ygr8pI6",
        "outputId": "32d04f5a-0d75-4e3a-9174-b310dcbd21c6"
      },
      "outputs": [
        {
          "data": {
            "text/html": [
              "\n",
              "  <div id=\"df-0798a59b-3b33-4130-bb9a-7c59fe8d5756\" class=\"colab-df-container\">\n",
              "    <div>\n",
              "<style scoped>\n",
              "    .dataframe tbody tr th:only-of-type {\n",
              "        vertical-align: middle;\n",
              "    }\n",
              "\n",
              "    .dataframe tbody tr th {\n",
              "        vertical-align: top;\n",
              "    }\n",
              "\n",
              "    .dataframe thead th {\n",
              "        text-align: right;\n",
              "    }\n",
              "</style>\n",
              "<table border=\"1\" class=\"dataframe\">\n",
              "  <thead>\n",
              "    <tr style=\"text-align: right;\">\n",
              "      <th></th>\n",
              "      <th>review_text</th>\n",
              "      <th>review_class</th>\n",
              "    </tr>\n",
              "  </thead>\n",
              "  <tbody>\n",
              "    <tr>\n",
              "      <th>86965</th>\n",
              "      <td>I got this one for a steal - about half of wha...</td>\n",
              "      <td>1</td>\n",
              "    </tr>\n",
              "    <tr>\n",
              "      <th>105021</th>\n",
              "      <td>If we are to draw equivalent lessons from both...</td>\n",
              "      <td>0</td>\n",
              "    </tr>\n",
              "    <tr>\n",
              "      <th>43969</th>\n",
              "      <td>Spoiler alert!!\\n\\nThis book was a waste of my...</td>\n",
              "      <td>0</td>\n",
              "    </tr>\n",
              "    <tr>\n",
              "      <th>244775</th>\n",
              "      <td>This book is way overated.  Its way-out, wacky...</td>\n",
              "      <td>0</td>\n",
              "    </tr>\n",
              "    <tr>\n",
              "      <th>183602</th>\n",
              "      <td>We had to read this book for our Foundations c...</td>\n",
              "      <td>0</td>\n",
              "    </tr>\n",
              "    <tr>\n",
              "      <th>...</th>\n",
              "      <td>...</td>\n",
              "      <td>...</td>\n",
              "    </tr>\n",
              "    <tr>\n",
              "      <th>133803</th>\n",
              "      <td>This book is terrible.  RaH takes a perfectly ...</td>\n",
              "      <td>0</td>\n",
              "    </tr>\n",
              "    <tr>\n",
              "      <th>227840</th>\n",
              "      <td>While not as detailed as a textbook might be, ...</td>\n",
              "      <td>1</td>\n",
              "    </tr>\n",
              "    <tr>\n",
              "      <th>255603</th>\n",
              "      <td>This is a great buy.  What an easy way to read...</td>\n",
              "      <td>1</td>\n",
              "    </tr>\n",
              "    <tr>\n",
              "      <th>13054</th>\n",
              "      <td>A glorified cliche, this book does little just...</td>\n",
              "      <td>0</td>\n",
              "    </tr>\n",
              "    <tr>\n",
              "      <th>68111</th>\n",
              "      <td>This was my first book from this author.  It w...</td>\n",
              "      <td>1</td>\n",
              "    </tr>\n",
              "  </tbody>\n",
              "</table>\n",
              "<p>60213 rows × 2 columns</p>\n",
              "</div>\n",
              "    <div class=\"colab-df-buttons\">\n",
              "\n",
              "  <div class=\"colab-df-container\">\n",
              "    <button class=\"colab-df-convert\" onclick=\"convertToInteractive('df-0798a59b-3b33-4130-bb9a-7c59fe8d5756')\"\n",
              "            title=\"Convert this dataframe to an interactive table.\"\n",
              "            style=\"display:none;\">\n",
              "\n",
              "  <svg xmlns=\"http://www.w3.org/2000/svg\" height=\"24px\" viewBox=\"0 -960 960 960\">\n",
              "    <path d=\"M120-120v-720h720v720H120Zm60-500h600v-160H180v160Zm220 220h160v-160H400v160Zm0 220h160v-160H400v160ZM180-400h160v-160H180v160Zm440 0h160v-160H620v160ZM180-180h160v-160H180v160Zm440 0h160v-160H620v160Z\"/>\n",
              "  </svg>\n",
              "    </button>\n",
              "\n",
              "  <style>\n",
              "    .colab-df-container {\n",
              "      display:flex;\n",
              "      gap: 12px;\n",
              "    }\n",
              "\n",
              "    .colab-df-convert {\n",
              "      background-color: #E8F0FE;\n",
              "      border: none;\n",
              "      border-radius: 50%;\n",
              "      cursor: pointer;\n",
              "      display: none;\n",
              "      fill: #1967D2;\n",
              "      height: 32px;\n",
              "      padding: 0 0 0 0;\n",
              "      width: 32px;\n",
              "    }\n",
              "\n",
              "    .colab-df-convert:hover {\n",
              "      background-color: #E2EBFA;\n",
              "      box-shadow: 0px 1px 2px rgba(60, 64, 67, 0.3), 0px 1px 3px 1px rgba(60, 64, 67, 0.15);\n",
              "      fill: #174EA6;\n",
              "    }\n",
              "\n",
              "    .colab-df-buttons div {\n",
              "      margin-bottom: 4px;\n",
              "    }\n",
              "\n",
              "    [theme=dark] .colab-df-convert {\n",
              "      background-color: #3B4455;\n",
              "      fill: #D2E3FC;\n",
              "    }\n",
              "\n",
              "    [theme=dark] .colab-df-convert:hover {\n",
              "      background-color: #434B5C;\n",
              "      box-shadow: 0px 1px 3px 1px rgba(0, 0, 0, 0.15);\n",
              "      filter: drop-shadow(0px 1px 2px rgba(0, 0, 0, 0.3));\n",
              "      fill: #FFFFFF;\n",
              "    }\n",
              "  </style>\n",
              "\n",
              "    <script>\n",
              "      const buttonEl =\n",
              "        document.querySelector('#df-0798a59b-3b33-4130-bb9a-7c59fe8d5756 button.colab-df-convert');\n",
              "      buttonEl.style.display =\n",
              "        google.colab.kernel.accessAllowed ? 'block' : 'none';\n",
              "\n",
              "      async function convertToInteractive(key) {\n",
              "        const element = document.querySelector('#df-0798a59b-3b33-4130-bb9a-7c59fe8d5756');\n",
              "        const dataTable =\n",
              "          await google.colab.kernel.invokeFunction('convertToInteractive',\n",
              "                                                    [key], {});\n",
              "        if (!dataTable) return;\n",
              "\n",
              "        const docLinkHtml = 'Like what you see? Visit the ' +\n",
              "          '<a target=\"_blank\" href=https://colab.research.google.com/notebooks/data_table.ipynb>data table notebook</a>'\n",
              "          + ' to learn more about interactive tables.';\n",
              "        element.innerHTML = '';\n",
              "        dataTable['output_type'] = 'display_data';\n",
              "        await google.colab.output.renderOutput(dataTable, element);\n",
              "        const docLink = document.createElement('div');\n",
              "        docLink.innerHTML = docLinkHtml;\n",
              "        element.appendChild(docLink);\n",
              "      }\n",
              "    </script>\n",
              "  </div>\n",
              "\n",
              "\n",
              "<div id=\"df-2a63b9b3-4050-4e6b-9683-a3e0173a7d34\">\n",
              "  <button class=\"colab-df-quickchart\" onclick=\"quickchart('df-2a63b9b3-4050-4e6b-9683-a3e0173a7d34')\"\n",
              "            title=\"Suggest charts\"\n",
              "            style=\"display:none;\">\n",
              "\n",
              "<svg xmlns=\"http://www.w3.org/2000/svg\" height=\"24px\"viewBox=\"0 0 24 24\"\n",
              "     width=\"24px\">\n",
              "    <g>\n",
              "        <path d=\"M19 3H5c-1.1 0-2 .9-2 2v14c0 1.1.9 2 2 2h14c1.1 0 2-.9 2-2V5c0-1.1-.9-2-2-2zM9 17H7v-7h2v7zm4 0h-2V7h2v10zm4 0h-2v-4h2v4z\"/>\n",
              "    </g>\n",
              "</svg>\n",
              "  </button>\n",
              "\n",
              "<style>\n",
              "  .colab-df-quickchart {\n",
              "      --bg-color: #E8F0FE;\n",
              "      --fill-color: #1967D2;\n",
              "      --hover-bg-color: #E2EBFA;\n",
              "      --hover-fill-color: #174EA6;\n",
              "      --disabled-fill-color: #AAA;\n",
              "      --disabled-bg-color: #DDD;\n",
              "  }\n",
              "\n",
              "  [theme=dark] .colab-df-quickchart {\n",
              "      --bg-color: #3B4455;\n",
              "      --fill-color: #D2E3FC;\n",
              "      --hover-bg-color: #434B5C;\n",
              "      --hover-fill-color: #FFFFFF;\n",
              "      --disabled-bg-color: #3B4455;\n",
              "      --disabled-fill-color: #666;\n",
              "  }\n",
              "\n",
              "  .colab-df-quickchart {\n",
              "    background-color: var(--bg-color);\n",
              "    border: none;\n",
              "    border-radius: 50%;\n",
              "    cursor: pointer;\n",
              "    display: none;\n",
              "    fill: var(--fill-color);\n",
              "    height: 32px;\n",
              "    padding: 0;\n",
              "    width: 32px;\n",
              "  }\n",
              "\n",
              "  .colab-df-quickchart:hover {\n",
              "    background-color: var(--hover-bg-color);\n",
              "    box-shadow: 0 1px 2px rgba(60, 64, 67, 0.3), 0 1px 3px 1px rgba(60, 64, 67, 0.15);\n",
              "    fill: var(--button-hover-fill-color);\n",
              "  }\n",
              "\n",
              "  .colab-df-quickchart-complete:disabled,\n",
              "  .colab-df-quickchart-complete:disabled:hover {\n",
              "    background-color: var(--disabled-bg-color);\n",
              "    fill: var(--disabled-fill-color);\n",
              "    box-shadow: none;\n",
              "  }\n",
              "\n",
              "  .colab-df-spinner {\n",
              "    border: 2px solid var(--fill-color);\n",
              "    border-color: transparent;\n",
              "    border-bottom-color: var(--fill-color);\n",
              "    animation:\n",
              "      spin 1s steps(1) infinite;\n",
              "  }\n",
              "\n",
              "  @keyframes spin {\n",
              "    0% {\n",
              "      border-color: transparent;\n",
              "      border-bottom-color: var(--fill-color);\n",
              "      border-left-color: var(--fill-color);\n",
              "    }\n",
              "    20% {\n",
              "      border-color: transparent;\n",
              "      border-left-color: var(--fill-color);\n",
              "      border-top-color: var(--fill-color);\n",
              "    }\n",
              "    30% {\n",
              "      border-color: transparent;\n",
              "      border-left-color: var(--fill-color);\n",
              "      border-top-color: var(--fill-color);\n",
              "      border-right-color: var(--fill-color);\n",
              "    }\n",
              "    40% {\n",
              "      border-color: transparent;\n",
              "      border-right-color: var(--fill-color);\n",
              "      border-top-color: var(--fill-color);\n",
              "    }\n",
              "    60% {\n",
              "      border-color: transparent;\n",
              "      border-right-color: var(--fill-color);\n",
              "    }\n",
              "    80% {\n",
              "      border-color: transparent;\n",
              "      border-right-color: var(--fill-color);\n",
              "      border-bottom-color: var(--fill-color);\n",
              "    }\n",
              "    90% {\n",
              "      border-color: transparent;\n",
              "      border-bottom-color: var(--fill-color);\n",
              "    }\n",
              "  }\n",
              "</style>\n",
              "\n",
              "  <script>\n",
              "    async function quickchart(key) {\n",
              "      const quickchartButtonEl =\n",
              "        document.querySelector('#' + key + ' button');\n",
              "      quickchartButtonEl.disabled = true;  // To prevent multiple clicks.\n",
              "      quickchartButtonEl.classList.add('colab-df-spinner');\n",
              "      try {\n",
              "        const charts = await google.colab.kernel.invokeFunction(\n",
              "            'suggestCharts', [key], {});\n",
              "      } catch (error) {\n",
              "        console.error('Error during call to suggestCharts:', error);\n",
              "      }\n",
              "      quickchartButtonEl.classList.remove('colab-df-spinner');\n",
              "      quickchartButtonEl.classList.add('colab-df-quickchart-complete');\n",
              "    }\n",
              "    (() => {\n",
              "      let quickchartButtonEl =\n",
              "        document.querySelector('#df-2a63b9b3-4050-4e6b-9683-a3e0173a7d34 button');\n",
              "      quickchartButtonEl.style.display =\n",
              "        google.colab.kernel.accessAllowed ? 'block' : 'none';\n",
              "    })();\n",
              "  </script>\n",
              "</div>\n",
              "\n",
              "  <div id=\"id_8ff4af6b-7f33-4524-8ec5-a6d464ca9b59\">\n",
              "    <style>\n",
              "      .colab-df-generate {\n",
              "        background-color: #E8F0FE;\n",
              "        border: none;\n",
              "        border-radius: 50%;\n",
              "        cursor: pointer;\n",
              "        display: none;\n",
              "        fill: #1967D2;\n",
              "        height: 32px;\n",
              "        padding: 0 0 0 0;\n",
              "        width: 32px;\n",
              "      }\n",
              "\n",
              "      .colab-df-generate:hover {\n",
              "        background-color: #E2EBFA;\n",
              "        box-shadow: 0px 1px 2px rgba(60, 64, 67, 0.3), 0px 1px 3px 1px rgba(60, 64, 67, 0.15);\n",
              "        fill: #174EA6;\n",
              "      }\n",
              "\n",
              "      [theme=dark] .colab-df-generate {\n",
              "        background-color: #3B4455;\n",
              "        fill: #D2E3FC;\n",
              "      }\n",
              "\n",
              "      [theme=dark] .colab-df-generate:hover {\n",
              "        background-color: #434B5C;\n",
              "        box-shadow: 0px 1px 3px 1px rgba(0, 0, 0, 0.15);\n",
              "        filter: drop-shadow(0px 1px 2px rgba(0, 0, 0, 0.3));\n",
              "        fill: #FFFFFF;\n",
              "      }\n",
              "    </style>\n",
              "    <button class=\"colab-df-generate\" onclick=\"generateWithVariable('book_test_dataset')\"\n",
              "            title=\"Generate code using this dataframe.\"\n",
              "            style=\"display:none;\">\n",
              "\n",
              "  <svg xmlns=\"http://www.w3.org/2000/svg\" height=\"24px\"viewBox=\"0 0 24 24\"\n",
              "       width=\"24px\">\n",
              "    <path d=\"M7,19H8.4L18.45,9,17,7.55,7,17.6ZM5,21V16.75L18.45,3.32a2,2,0,0,1,2.83,0l1.4,1.43a1.91,1.91,0,0,1,.58,1.4,1.91,1.91,0,0,1-.58,1.4L9.25,21ZM18.45,9,17,7.55Zm-12,3A5.31,5.31,0,0,0,4.9,8.1,5.31,5.31,0,0,0,1,6.5,5.31,5.31,0,0,0,4.9,4.9,5.31,5.31,0,0,0,6.5,1,5.31,5.31,0,0,0,8.1,4.9,5.31,5.31,0,0,0,12,6.5,5.46,5.46,0,0,0,6.5,12Z\"/>\n",
              "  </svg>\n",
              "    </button>\n",
              "    <script>\n",
              "      (() => {\n",
              "      const buttonEl =\n",
              "        document.querySelector('#id_8ff4af6b-7f33-4524-8ec5-a6d464ca9b59 button.colab-df-generate');\n",
              "      buttonEl.style.display =\n",
              "        google.colab.kernel.accessAllowed ? 'block' : 'none';\n",
              "\n",
              "      buttonEl.onclick = () => {\n",
              "        google.colab.notebook.generateWithVariable('book_test_dataset');\n",
              "      }\n",
              "      })();\n",
              "    </script>\n",
              "  </div>\n",
              "\n",
              "    </div>\n",
              "  </div>\n"
            ],
            "text/plain": [
              "                                              review_text review_class\n",
              "86965   I got this one for a steal - about half of wha...            1\n",
              "105021  If we are to draw equivalent lessons from both...            0\n",
              "43969   Spoiler alert!!\\n\\nThis book was a waste of my...            0\n",
              "244775  This book is way overated.  Its way-out, wacky...            0\n",
              "183602  We had to read this book for our Foundations c...            0\n",
              "...                                                   ...          ...\n",
              "133803  This book is terrible.  RaH takes a perfectly ...            0\n",
              "227840  While not as detailed as a textbook might be, ...            1\n",
              "255603  This is a great buy.  What an easy way to read...            1\n",
              "13054   A glorified cliche, this book does little just...            0\n",
              "68111   This was my first book from this author.  It w...            1\n",
              "\n",
              "[60213 rows x 2 columns]"
            ]
          },
          "execution_count": 25,
          "metadata": {},
          "output_type": "execute_result"
        }
      ],
      "source": [
        "book_test_dataset"
      ]
    },
    {
      "cell_type": "markdown",
      "metadata": {
        "id": "WIb6cmMqcSRV"
      },
      "source": [
        "The variables `X_train` and `y_train` are being assigned. `X_train` is set to the `'review_text'` column of the book_training_dataset, which contains the text of the reviews. `y_train` is set to the `'review_class'` column of the same dataset and will serve as the target variable, indicating the class of the sentiment (positive or negative)."
      ]
    },
    {
      "cell_type": "code",
      "execution_count": null,
      "metadata": {
        "id": "TYAMAmv38LRN"
      },
      "outputs": [],
      "source": [
        "X_train = book_training_dataset['review_text']\n",
        "y_train = book_training_dataset['review_class']"
      ]
    },
    {
      "cell_type": "markdown",
      "metadata": {
        "id": "apLwzm60exRq"
      },
      "source": [
        "In the same way, the variables X_test and y_test are assigned."
      ]
    },
    {
      "cell_type": "code",
      "execution_count": null,
      "metadata": {
        "id": "1vELAEIgeht-"
      },
      "outputs": [],
      "source": [
        "X_test = book_training_dataset['review_text']\n",
        "y_test = book_training_dataset['review_class']"
      ]
    },
    {
      "cell_type": "markdown",
      "metadata": {
        "id": "C8xJLwUfcus5"
      },
      "source": [
        "The cell initializes an instance of the custom `TextVectorizer` class with its default configuration. This class encapsulates preprocessing and vectorization of textual data. Specifically, it **lemmatizes words**, **removes special characters**, and **represents text using TF-IDF (Term Frequency-Inverse Document Frequency) values**. The vectorizer is set to consider both unigrams and bigrams and is _limited to the 5000 most significant features_. If default English stopwords are used."
      ]
    },
    {
      "cell_type": "code",
      "execution_count": null,
      "metadata": {
        "id": "nha1LCyvb2kb"
      },
      "outputs": [],
      "source": [
        "text_vectorizer = TextVectorizer()"
      ]
    },
    {
      "cell_type": "markdown",
      "metadata": {
        "id": "5nsYQSZCdrNv"
      },
      "source": [
        "This cell applies the `fit_transform` method of the `text_vectorizer` instance to the X_train data. Converting the text data into a TF-IDF matrix where each row corresponds to a document and each column represents a term in the learned vocabulary."
      ]
    },
    {
      "cell_type": "code",
      "execution_count": null,
      "metadata": {
        "id": "w4nB1ElXb48u"
      },
      "outputs": [],
      "source": [
        "X_tfidf = text_vectorizer.fit_transform(X_train)"
      ]
    },
    {
      "cell_type": "markdown",
      "metadata": {
        "id": "DlenhPtAeXjR"
      },
      "source": [
        "Print the shape of the resulting TF-IDF feature matrix"
      ]
    },
    {
      "cell_type": "code",
      "execution_count": null,
      "metadata": {
        "colab": {
          "base_uri": "https://localhost:8080/"
        },
        "id": "1eGmvC9xRr3q",
        "outputId": "708c5a5f-9c04-43b3-eebf-f184b4ceeb55"
      },
      "outputs": [
        {
          "name": "stdout",
          "output_type": "stream",
          "text": [
            "(240851, 5000)\n"
          ]
        }
      ],
      "source": [
        "print(X_tfidf.shape)"
      ]
    },
    {
      "cell_type": "markdown",
      "metadata": {
        "id": "gD0dpmvKeLIZ"
      },
      "source": [
        "Saves the books vectorizer for further use."
      ]
    },
    {
      "cell_type": "code",
      "execution_count": null,
      "metadata": {
        "id": "OOI2zRTvfPql"
      },
      "outputs": [],
      "source": [
        "text_vectorizer.save_vectorizer('text_vectorizer_books.joblib')"
      ]
    },
    {
      "cell_type": "markdown",
      "metadata": {
        "id": "UVyK9Bh4elN_"
      },
      "source": [
        "Apply the same transformation using the books vectorizer to the test data."
      ]
    },
    {
      "cell_type": "code",
      "execution_count": null,
      "metadata": {
        "id": "btcUxnigere8"
      },
      "outputs": [],
      "source": [
        "X_test_tfidf = text_vectorizer.transform(X_test)"
      ]
    },
    {
      "cell_type": "markdown",
      "metadata": {
        "id": "2_jRi1xcTixU"
      },
      "source": [
        "### Multinomial Naive Bayes Clasification"
      ]
    },
    {
      "cell_type": "markdown",
      "metadata": {
        "id": "9KClBqPnbDKK"
      },
      "source": [
        "The following cell sets up a machine learning training pipeline using the `ModelTrainer` class, which encapsulates training and evaluation of scikit-learn models. An instance of the `ModelTrainer` class is created with a Multinomial Naive Bayes classifier and empty parameter settings. It then defines a parameter grid for alpha values to be used in a grid search, optimizing the smoothing parameter of the Naive Bayes algorithm."
      ]
    },
    {
      "cell_type": "code",
      "execution_count": null,
      "metadata": {
        "id": "CD-Acnm7OB_k"
      },
      "outputs": [],
      "source": [
        "# Initialize an instance of the ModelTrainer class with Multinomial Naive Bayes classifier and parameters\n",
        "trainer = ModelTrainer(MultinomialNB, {})\n",
        "\n",
        "# Define the parameter grid for Grid Search\n",
        "param_grid = {\n",
        "  'alpha': [0.001, 0.01, 0.1, 1, 10, 100]  # Range of alpha values for smoothing parameter\n",
        "}\n",
        "\n",
        "# Train the model using Grid Search\n",
        "# Grid Search will optimize the classifier to find the best alpha parameter based on cross-validation\n",
        "trainer.train(X_tfidf, y_train, use_grid_search=True, grid_params=param_grid)"
      ]
    },
    {
      "cell_type": "markdown",
      "metadata": {
        "id": "wduPnqO8bqgZ"
      },
      "source": [
        "The resulting best model will be stored within the ModelTrainer instance, ready for evaluation and further use."
      ]
    },
    {
      "cell_type": "code",
      "execution_count": null,
      "metadata": {
        "colab": {
          "base_uri": "https://localhost:8080/"
        },
        "id": "nvRIvF8KK_TN",
        "outputId": "2a21d8a5-bab0-4cc8-ae76-90d5bfe6d5b9"
      },
      "outputs": [
        {
          "name": "stdout",
          "output_type": "stream",
          "text": [
            "              precision    recall  f1-score   support\n",
            "\n",
            "           0       0.86      0.85      0.86    120425\n",
            "           1       0.85      0.86      0.86    120426\n",
            "\n",
            "    accuracy                           0.86    240851\n",
            "   macro avg       0.86      0.86      0.86    240851\n",
            "weighted avg       0.86      0.86      0.86    240851\n",
            "\n"
          ]
        }
      ],
      "source": [
        "# Evaluate the model\n",
        "metrics = trainer.evaluate(X_test_tfidf, y_test)\n",
        "print(metrics['report'])"
      ]
    },
    {
      "cell_type": "markdown",
      "metadata": {
        "id": "umTddKsDdR1N"
      },
      "source": [
        "The model shows an overall accuracy of 0.86, with balanced precision, recall, and f1-scores across both classes, indicating good performance in classifying both positive and negative sentiments. The macro and weighted averages are also 0.86, suggesting consistent performance across the classes, considering their support."
      ]
    },
    {
      "cell_type": "markdown",
      "metadata": {
        "id": "JDXqlPVsccBy"
      },
      "source": [
        "Save the best model for further use."
      ]
    },
    {
      "cell_type": "code",
      "execution_count": null,
      "metadata": {
        "id": "97aSoXlxPExR"
      },
      "outputs": [],
      "source": [
        "trainer.save_model('multinomial_nb_model.pkl')"
      ]
    },
    {
      "cell_type": "markdown",
      "metadata": {
        "id": "Apl75McLcmMp"
      },
      "source": [
        "Load the saved model for testing correct saving"
      ]
    },
    {
      "cell_type": "code",
      "execution_count": null,
      "metadata": {
        "id": "oNIIshx2PTHr"
      },
      "outputs": [],
      "source": [
        "multinomial_nb_model = trainer.load_model('multinomial_nb_model.pkl')"
      ]
    },
    {
      "cell_type": "markdown",
      "metadata": {
        "id": "68re8R-oePRg"
      },
      "source": [
        "The function `add_model_report` generates a DataFrame containing the classification report for a model. It takes the true labels `y_true`, the predicted labels `y_pred`, and the model_name as arguments."
      ]
    },
    {
      "cell_type": "code",
      "execution_count": null,
      "metadata": {
        "colab": {
          "base_uri": "https://localhost:8080/",
          "height": 125
        },
        "id": "fszPmpL2IvD8",
        "outputId": "1476cc0f-1974-4565-931b-90c1278c0124"
      },
      "outputs": [
        {
          "data": {
            "text/html": [
              "\n",
              "  <div id=\"df-53eda230-0675-417a-9e26-7ec9066a22aa\" class=\"colab-df-container\">\n",
              "    <div>\n",
              "<style scoped>\n",
              "    .dataframe tbody tr th:only-of-type {\n",
              "        vertical-align: middle;\n",
              "    }\n",
              "\n",
              "    .dataframe tbody tr th {\n",
              "        vertical-align: top;\n",
              "    }\n",
              "\n",
              "    .dataframe thead th {\n",
              "        text-align: right;\n",
              "    }\n",
              "</style>\n",
              "<table border=\"1\" class=\"dataframe\">\n",
              "  <thead>\n",
              "    <tr style=\"text-align: right;\">\n",
              "      <th></th>\n",
              "      <th>model_name</th>\n",
              "      <th>class_label</th>\n",
              "      <th>accuracy</th>\n",
              "      <th>precision</th>\n",
              "      <th>recall</th>\n",
              "      <th>f1-score</th>\n",
              "      <th>support</th>\n",
              "    </tr>\n",
              "  </thead>\n",
              "  <tbody>\n",
              "    <tr>\n",
              "      <th>0</th>\n",
              "      <td>MultinomialNB</td>\n",
              "      <td>0</td>\n",
              "      <td>0.857148</td>\n",
              "      <td>0.859704</td>\n",
              "      <td>0.853594</td>\n",
              "      <td>0.856638</td>\n",
              "      <td>120425.0</td>\n",
              "    </tr>\n",
              "    <tr>\n",
              "      <th>1</th>\n",
              "      <td>MultinomialNB</td>\n",
              "      <td>1</td>\n",
              "      <td>0.857148</td>\n",
              "      <td>0.854628</td>\n",
              "      <td>0.860703</td>\n",
              "      <td>0.857655</td>\n",
              "      <td>120426.0</td>\n",
              "    </tr>\n",
              "  </tbody>\n",
              "</table>\n",
              "</div>\n",
              "    <div class=\"colab-df-buttons\">\n",
              "\n",
              "  <div class=\"colab-df-container\">\n",
              "    <button class=\"colab-df-convert\" onclick=\"convertToInteractive('df-53eda230-0675-417a-9e26-7ec9066a22aa')\"\n",
              "            title=\"Convert this dataframe to an interactive table.\"\n",
              "            style=\"display:none;\">\n",
              "\n",
              "  <svg xmlns=\"http://www.w3.org/2000/svg\" height=\"24px\" viewBox=\"0 -960 960 960\">\n",
              "    <path d=\"M120-120v-720h720v720H120Zm60-500h600v-160H180v160Zm220 220h160v-160H400v160Zm0 220h160v-160H400v160ZM180-400h160v-160H180v160Zm440 0h160v-160H620v160ZM180-180h160v-160H180v160Zm440 0h160v-160H620v160Z\"/>\n",
              "  </svg>\n",
              "    </button>\n",
              "\n",
              "  <style>\n",
              "    .colab-df-container {\n",
              "      display:flex;\n",
              "      gap: 12px;\n",
              "    }\n",
              "\n",
              "    .colab-df-convert {\n",
              "      background-color: #E8F0FE;\n",
              "      border: none;\n",
              "      border-radius: 50%;\n",
              "      cursor: pointer;\n",
              "      display: none;\n",
              "      fill: #1967D2;\n",
              "      height: 32px;\n",
              "      padding: 0 0 0 0;\n",
              "      width: 32px;\n",
              "    }\n",
              "\n",
              "    .colab-df-convert:hover {\n",
              "      background-color: #E2EBFA;\n",
              "      box-shadow: 0px 1px 2px rgba(60, 64, 67, 0.3), 0px 1px 3px 1px rgba(60, 64, 67, 0.15);\n",
              "      fill: #174EA6;\n",
              "    }\n",
              "\n",
              "    .colab-df-buttons div {\n",
              "      margin-bottom: 4px;\n",
              "    }\n",
              "\n",
              "    [theme=dark] .colab-df-convert {\n",
              "      background-color: #3B4455;\n",
              "      fill: #D2E3FC;\n",
              "    }\n",
              "\n",
              "    [theme=dark] .colab-df-convert:hover {\n",
              "      background-color: #434B5C;\n",
              "      box-shadow: 0px 1px 3px 1px rgba(0, 0, 0, 0.15);\n",
              "      filter: drop-shadow(0px 1px 2px rgba(0, 0, 0, 0.3));\n",
              "      fill: #FFFFFF;\n",
              "    }\n",
              "  </style>\n",
              "\n",
              "    <script>\n",
              "      const buttonEl =\n",
              "        document.querySelector('#df-53eda230-0675-417a-9e26-7ec9066a22aa button.colab-df-convert');\n",
              "      buttonEl.style.display =\n",
              "        google.colab.kernel.accessAllowed ? 'block' : 'none';\n",
              "\n",
              "      async function convertToInteractive(key) {\n",
              "        const element = document.querySelector('#df-53eda230-0675-417a-9e26-7ec9066a22aa');\n",
              "        const dataTable =\n",
              "          await google.colab.kernel.invokeFunction('convertToInteractive',\n",
              "                                                    [key], {});\n",
              "        if (!dataTable) return;\n",
              "\n",
              "        const docLinkHtml = 'Like what you see? Visit the ' +\n",
              "          '<a target=\"_blank\" href=https://colab.research.google.com/notebooks/data_table.ipynb>data table notebook</a>'\n",
              "          + ' to learn more about interactive tables.';\n",
              "        element.innerHTML = '';\n",
              "        dataTable['output_type'] = 'display_data';\n",
              "        await google.colab.output.renderOutput(dataTable, element);\n",
              "        const docLink = document.createElement('div');\n",
              "        docLink.innerHTML = docLinkHtml;\n",
              "        element.appendChild(docLink);\n",
              "      }\n",
              "    </script>\n",
              "  </div>\n",
              "\n",
              "\n",
              "<div id=\"df-e44ea5da-fd07-4630-8e72-2ab5bf4f52d1\">\n",
              "  <button class=\"colab-df-quickchart\" onclick=\"quickchart('df-e44ea5da-fd07-4630-8e72-2ab5bf4f52d1')\"\n",
              "            title=\"Suggest charts\"\n",
              "            style=\"display:none;\">\n",
              "\n",
              "<svg xmlns=\"http://www.w3.org/2000/svg\" height=\"24px\"viewBox=\"0 0 24 24\"\n",
              "     width=\"24px\">\n",
              "    <g>\n",
              "        <path d=\"M19 3H5c-1.1 0-2 .9-2 2v14c0 1.1.9 2 2 2h14c1.1 0 2-.9 2-2V5c0-1.1-.9-2-2-2zM9 17H7v-7h2v7zm4 0h-2V7h2v10zm4 0h-2v-4h2v4z\"/>\n",
              "    </g>\n",
              "</svg>\n",
              "  </button>\n",
              "\n",
              "<style>\n",
              "  .colab-df-quickchart {\n",
              "      --bg-color: #E8F0FE;\n",
              "      --fill-color: #1967D2;\n",
              "      --hover-bg-color: #E2EBFA;\n",
              "      --hover-fill-color: #174EA6;\n",
              "      --disabled-fill-color: #AAA;\n",
              "      --disabled-bg-color: #DDD;\n",
              "  }\n",
              "\n",
              "  [theme=dark] .colab-df-quickchart {\n",
              "      --bg-color: #3B4455;\n",
              "      --fill-color: #D2E3FC;\n",
              "      --hover-bg-color: #434B5C;\n",
              "      --hover-fill-color: #FFFFFF;\n",
              "      --disabled-bg-color: #3B4455;\n",
              "      --disabled-fill-color: #666;\n",
              "  }\n",
              "\n",
              "  .colab-df-quickchart {\n",
              "    background-color: var(--bg-color);\n",
              "    border: none;\n",
              "    border-radius: 50%;\n",
              "    cursor: pointer;\n",
              "    display: none;\n",
              "    fill: var(--fill-color);\n",
              "    height: 32px;\n",
              "    padding: 0;\n",
              "    width: 32px;\n",
              "  }\n",
              "\n",
              "  .colab-df-quickchart:hover {\n",
              "    background-color: var(--hover-bg-color);\n",
              "    box-shadow: 0 1px 2px rgba(60, 64, 67, 0.3), 0 1px 3px 1px rgba(60, 64, 67, 0.15);\n",
              "    fill: var(--button-hover-fill-color);\n",
              "  }\n",
              "\n",
              "  .colab-df-quickchart-complete:disabled,\n",
              "  .colab-df-quickchart-complete:disabled:hover {\n",
              "    background-color: var(--disabled-bg-color);\n",
              "    fill: var(--disabled-fill-color);\n",
              "    box-shadow: none;\n",
              "  }\n",
              "\n",
              "  .colab-df-spinner {\n",
              "    border: 2px solid var(--fill-color);\n",
              "    border-color: transparent;\n",
              "    border-bottom-color: var(--fill-color);\n",
              "    animation:\n",
              "      spin 1s steps(1) infinite;\n",
              "  }\n",
              "\n",
              "  @keyframes spin {\n",
              "    0% {\n",
              "      border-color: transparent;\n",
              "      border-bottom-color: var(--fill-color);\n",
              "      border-left-color: var(--fill-color);\n",
              "    }\n",
              "    20% {\n",
              "      border-color: transparent;\n",
              "      border-left-color: var(--fill-color);\n",
              "      border-top-color: var(--fill-color);\n",
              "    }\n",
              "    30% {\n",
              "      border-color: transparent;\n",
              "      border-left-color: var(--fill-color);\n",
              "      border-top-color: var(--fill-color);\n",
              "      border-right-color: var(--fill-color);\n",
              "    }\n",
              "    40% {\n",
              "      border-color: transparent;\n",
              "      border-right-color: var(--fill-color);\n",
              "      border-top-color: var(--fill-color);\n",
              "    }\n",
              "    60% {\n",
              "      border-color: transparent;\n",
              "      border-right-color: var(--fill-color);\n",
              "    }\n",
              "    80% {\n",
              "      border-color: transparent;\n",
              "      border-right-color: var(--fill-color);\n",
              "      border-bottom-color: var(--fill-color);\n",
              "    }\n",
              "    90% {\n",
              "      border-color: transparent;\n",
              "      border-bottom-color: var(--fill-color);\n",
              "    }\n",
              "  }\n",
              "</style>\n",
              "\n",
              "  <script>\n",
              "    async function quickchart(key) {\n",
              "      const quickchartButtonEl =\n",
              "        document.querySelector('#' + key + ' button');\n",
              "      quickchartButtonEl.disabled = true;  // To prevent multiple clicks.\n",
              "      quickchartButtonEl.classList.add('colab-df-spinner');\n",
              "      try {\n",
              "        const charts = await google.colab.kernel.invokeFunction(\n",
              "            'suggestCharts', [key], {});\n",
              "      } catch (error) {\n",
              "        console.error('Error during call to suggestCharts:', error);\n",
              "      }\n",
              "      quickchartButtonEl.classList.remove('colab-df-spinner');\n",
              "      quickchartButtonEl.classList.add('colab-df-quickchart-complete');\n",
              "    }\n",
              "    (() => {\n",
              "      let quickchartButtonEl =\n",
              "        document.querySelector('#df-e44ea5da-fd07-4630-8e72-2ab5bf4f52d1 button');\n",
              "      quickchartButtonEl.style.display =\n",
              "        google.colab.kernel.accessAllowed ? 'block' : 'none';\n",
              "    })();\n",
              "  </script>\n",
              "</div>\n",
              "\n",
              "  <div id=\"id_c3fb6473-c670-447c-b4df-719cf813e0bb\">\n",
              "    <style>\n",
              "      .colab-df-generate {\n",
              "        background-color: #E8F0FE;\n",
              "        border: none;\n",
              "        border-radius: 50%;\n",
              "        cursor: pointer;\n",
              "        display: none;\n",
              "        fill: #1967D2;\n",
              "        height: 32px;\n",
              "        padding: 0 0 0 0;\n",
              "        width: 32px;\n",
              "      }\n",
              "\n",
              "      .colab-df-generate:hover {\n",
              "        background-color: #E2EBFA;\n",
              "        box-shadow: 0px 1px 2px rgba(60, 64, 67, 0.3), 0px 1px 3px 1px rgba(60, 64, 67, 0.15);\n",
              "        fill: #174EA6;\n",
              "      }\n",
              "\n",
              "      [theme=dark] .colab-df-generate {\n",
              "        background-color: #3B4455;\n",
              "        fill: #D2E3FC;\n",
              "      }\n",
              "\n",
              "      [theme=dark] .colab-df-generate:hover {\n",
              "        background-color: #434B5C;\n",
              "        box-shadow: 0px 1px 3px 1px rgba(0, 0, 0, 0.15);\n",
              "        filter: drop-shadow(0px 1px 2px rgba(0, 0, 0, 0.3));\n",
              "        fill: #FFFFFF;\n",
              "      }\n",
              "    </style>\n",
              "    <button class=\"colab-df-generate\" onclick=\"generateWithVariable('metrics_df')\"\n",
              "            title=\"Generate code using this dataframe.\"\n",
              "            style=\"display:none;\">\n",
              "\n",
              "  <svg xmlns=\"http://www.w3.org/2000/svg\" height=\"24px\"viewBox=\"0 0 24 24\"\n",
              "       width=\"24px\">\n",
              "    <path d=\"M7,19H8.4L18.45,9,17,7.55,7,17.6ZM5,21V16.75L18.45,3.32a2,2,0,0,1,2.83,0l1.4,1.43a1.91,1.91,0,0,1,.58,1.4,1.91,1.91,0,0,1-.58,1.4L9.25,21ZM18.45,9,17,7.55Zm-12,3A5.31,5.31,0,0,0,4.9,8.1,5.31,5.31,0,0,0,1,6.5,5.31,5.31,0,0,0,4.9,4.9,5.31,5.31,0,0,0,6.5,1,5.31,5.31,0,0,0,8.1,4.9,5.31,5.31,0,0,0,12,6.5,5.46,5.46,0,0,0,6.5,12Z\"/>\n",
              "  </svg>\n",
              "    </button>\n",
              "    <script>\n",
              "      (() => {\n",
              "      const buttonEl =\n",
              "        document.querySelector('#id_c3fb6473-c670-447c-b4df-719cf813e0bb button.colab-df-generate');\n",
              "      buttonEl.style.display =\n",
              "        google.colab.kernel.accessAllowed ? 'block' : 'none';\n",
              "\n",
              "      buttonEl.onclick = () => {\n",
              "        google.colab.notebook.generateWithVariable('metrics_df');\n",
              "      }\n",
              "      })();\n",
              "    </script>\n",
              "  </div>\n",
              "\n",
              "    </div>\n",
              "  </div>\n"
            ],
            "text/plain": [
              "      model_name class_label  accuracy  precision    recall  f1-score  \\\n",
              "0  MultinomialNB           0  0.857148   0.859704  0.853594  0.856638   \n",
              "1  MultinomialNB           1  0.857148   0.854628  0.860703  0.857655   \n",
              "\n",
              "    support  \n",
              "0  120425.0  \n",
              "1  120426.0  "
            ]
          },
          "execution_count": 39,
          "metadata": {},
          "output_type": "execute_result"
        }
      ],
      "source": [
        "metrics_df = add_model_report(y_test, multinomial_nb_model.predict(X_test_tfidf), 'MultinomialNB')\n",
        "\n",
        "metrics_df"
      ]
    },
    {
      "cell_type": "markdown",
      "metadata": {
        "id": "rZOV1txVfi6x"
      },
      "source": [
        "The code cell defines a list of sample reviews, `sentiment_samples`, each labeled with a sentiment score to illustrate various levels of customer feedback, ranging from \"very negative\" to \"very positive\". These samples provide a qualitative glimpse into the types of textual data that a sentiment analysis model may encounter. Additionally, a list called sentiment_samples_true is defined, containing simplified binary sentiment labels corresponding to the reviews."
      ]
    },
    {
      "cell_type": "code",
      "execution_count": null,
      "metadata": {
        "id": "3etVGYTLcmz-"
      },
      "outputs": [],
      "source": [
        "sentiment_samples = [\n",
        "    # Very Negative (1.0)\n",
        "    \"Absolutely disappointed with this blender. It stopped working after just two uses. Customer service was unhelpful, and there's no option for a refund or replacement. A total waste of money.\",  # GT: 1.0\n",
        "    \"This smartphone case is a total letdown. It doesn't fit properly and offers zero protection. Dropped my phone once, and the screen shattered. Not worth it at all.\",  # GT: 1.0\n",
        "\n",
        "    # Negative (2.0)\n",
        "    \"Bought these headphones based on reviews, but they're just okay. The sound quality is mediocre, and they're quite uncomfortable for longer use. Not what I expected for the price.\",  # GT: 2.0\n",
        "    \"This coffee maker is underwhelming. It brews coffee alright, but the design is flawed, making it messy and hard to clean. It's also slower than advertised.\",  # GT: 2.0\n",
        "\n",
        "    # Positive (4.0)\n",
        "    \"The gardening tool set is pretty good for the price. The tools are sturdy, although the handles could be more comfortable. Overall, a decent purchase for casual gardening.\",  # GT: 4.0\n",
        "    \"This yoga mat is quite nice. It's durable and offers good grip, though a bit thinner than I prefer. It's great for regular use, though, and easy to clean.\",  # GT: 4.0\n",
        "\n",
        "    # Very Positive (5.0)\n",
        "    \"Love this laptop! It's fast, lightweight, and the battery life is impressive. Perfect for my work and entertainment needs. Totally worth the investment.\",  # GT: 5.0\n",
        "    \"This electric toothbrush is fantastic. My teeth have never felt cleaner, and the different modes are very useful. Battery lasts long, and it's easy to use. Highly recommend.\",  # GT: 5.0\n",
        "    \"The kitchen knife set is exceptional. Razor-sharp, well-balanced, and the handles are comfortable. They've made cooking much more enjoyable. A great buy.\",  # GT: 5.0\n",
        "    \"This pet bed is a hit with my dog. It's soft, cozy, and durable. Easy to wash and keeps its shape. My dog loves it, and so do I. Great quality for the price.\"  # GT: 5.0\n",
        "]\n",
        "\n",
        "sentiment_samples_true = ['0', '0', '0', '0', '1', '1', '1', '1', '1', '1']"
      ]
    },
    {
      "cell_type": "markdown",
      "metadata": {
        "id": "T9yDzFwXgKaE"
      },
      "source": [
        "The code cell first vectorizes a list of new sentiment samples into TF-IDF features. Then it uses a pretrained Multinomial Naive Bayes model to predict the sentiment classes of these samples. Each sample text is printed along with its predicted class."
      ]
    },
    {
      "cell_type": "code",
      "execution_count": null,
      "metadata": {
        "colab": {
          "base_uri": "https://localhost:8080/"
        },
        "id": "P7Pr77Lh2KlW",
        "outputId": "176a6b62-5161-40d6-82ef-a5fedfe7eb6a"
      },
      "outputs": [
        {
          "name": "stdout",
          "output_type": "stream",
          "text": [
            "\"Absolutely disappointed with this blender. It stopped working after just two uses. Customer service was unhelpful, and there's no option for a refund or replacement. A total waste of money.\"\n",
            "\t => 0\n",
            "\"This smartphone case is a total letdown. It doesn't fit properly and offers zero protection. Dropped my phone once, and the screen shattered. Not worth it at all.\"\n",
            "\t => 0\n",
            "\"Bought these headphones based on reviews, but they're just okay. The sound quality is mediocre, and they're quite uncomfortable for longer use. Not what I expected for the price.\"\n",
            "\t => 0\n",
            "\"This coffee maker is underwhelming. It brews coffee alright, but the design is flawed, making it messy and hard to clean. It's also slower than advertised.\"\n",
            "\t => 1\n",
            "'The gardening tool set is pretty good for the price. The tools are sturdy, although the handles could be more comfortable. Overall, a decent purchase for casual gardening.'\n",
            "\t => 1\n",
            "\"This yoga mat is quite nice. It's durable and offers good grip, though a bit thinner than I prefer. It's great for regular use, though, and easy to clean.\"\n",
            "\t => 1\n",
            "\"Love this laptop! It's fast, lightweight, and the battery life is impressive. Perfect for my work and entertainment needs. Totally worth the investment.\"\n",
            "\t => 1\n",
            "\"This electric toothbrush is fantastic. My teeth have never felt cleaner, and the different modes are very useful. Battery lasts long, and it's easy to use. Highly recommend.\"\n",
            "\t => 1\n",
            "\"The kitchen knife set is exceptional. Razor-sharp, well-balanced, and the handles are comfortable. They've made cooking much more enjoyable. A great buy.\"\n",
            "\t => 1\n",
            "\"This pet bed is a hit with my dog. It's soft, cozy, and durable. Easy to wash and keeps its shape. My dog loves it, and so do I. Great quality for the price.\"\n",
            "\t => 1\n",
            "              precision    recall  f1-score   support\n",
            "\n",
            "    Positive       1.00      0.75      0.86         4\n",
            "    Negative       0.86      1.00      0.92         6\n",
            "\n",
            "    accuracy                           0.90        10\n",
            "   macro avg       0.93      0.88      0.89        10\n",
            "weighted avg       0.91      0.90      0.90        10\n",
            "\n"
          ]
        }
      ],
      "source": [
        "# Transform the sentiment samples into TF-IDF features using the pre-fitted vectorizer\n",
        "X_new_tfidf = text_vectorizer.transform(sentiment_samples)\n",
        "\n",
        "# Predict the sentiment classes for the new samples\n",
        "predicted = multinomial_nb_model.predict(X_new_tfidf)\n",
        "\n",
        "# Print each sentiment sample with its corresponding predicted class\n",
        "for doc, category in zip(sentiment_samples, predicted):\n",
        "    print('%r\\n\\t => %s' % (doc, category))\n",
        "\n",
        "# Generate the classification report comparing true labels and predicted labels\n",
        "# Here 'Positive' is labeled as '1' and 'Negative' as '0'\n",
        "report = classification_report(sentiment_samples_true, predicted, target_names=['Positive', 'Negative'], output_dict=False)\n",
        "print(report)"
      ]
    },
    {
      "cell_type": "markdown",
      "metadata": {
        "id": "A_hRgd6NhJgD"
      },
      "source": [
        "The output from the sentiment classification model showcases a commendable level of accuracy in identifying the polarity of sentiment in product reviews. The Multinomial Naive Bayes model has demonstrated a nuanced understanding of language cues, successfully distinguishing between positive and negative feedback in various contexts."
      ]
    },
    {
      "cell_type": "markdown",
      "metadata": {
        "id": "70o62-umTqD8"
      },
      "source": [
        "### Random Forest Classification"
      ]
    },
    {
      "cell_type": "markdown",
      "metadata": {
        "id": "AUQR6UEoh_9p"
      },
      "source": [
        "The next code cell trains a new model using the ModelTrainer class. It specifically sets up a Random Forest Classifier with defined parameters for maximum tree depth and random state for consistent results across runs."
      ]
    },
    {
      "cell_type": "code",
      "execution_count": null,
      "metadata": {
        "id": "-m3FFQAFJvcz"
      },
      "outputs": [],
      "source": [
        "# Initialize an instance of ModelTrainer with RandomForestClassifier and specific parameters\n",
        "trainer = ModelTrainer(RandomForestClassifier, {'max_depth': 26, 'random_state': 42})\n",
        "\n",
        "# Train the model with the TF-IDF transformed training data and training labels\n",
        "# X_tfidf contains the features, and y_train contains the labels for the training data\n",
        "trainer.train(X_tfidf, y_train)"
      ]
    },
    {
      "cell_type": "markdown",
      "metadata": {
        "id": "LphCvMF2iPwG"
      },
      "source": [
        "Evaluate the model"
      ]
    },
    {
      "cell_type": "code",
      "execution_count": null,
      "metadata": {
        "colab": {
          "base_uri": "https://localhost:8080/"
        },
        "id": "_3hF1Z51KRBx",
        "outputId": "d8539c5d-0b1e-42f9-d2a4-b85a256c34c6"
      },
      "outputs": [
        {
          "name": "stdout",
          "output_type": "stream",
          "text": [
            "              precision    recall  f1-score   support\n",
            "\n",
            "           0       0.93      0.85      0.89    120425\n",
            "           1       0.86      0.93      0.90    120426\n",
            "\n",
            "    accuracy                           0.89    240851\n",
            "   macro avg       0.89      0.89      0.89    240851\n",
            "weighted avg       0.89      0.89      0.89    240851\n",
            "\n"
          ]
        }
      ],
      "source": [
        "metrics = trainer.evaluate(X_test_tfidf, y_test)\n",
        "print(metrics['report'])"
      ]
    },
    {
      "cell_type": "markdown",
      "metadata": {
        "id": "WYHRcITkn2yo"
      },
      "source": [
        "The classification report for the Random Forest Classifier shows a good performance, with an overall accuracy of 0.89, suggesting that the model is adept at correctly predicting sentiment 89% of the time. The precision of 0.93 for the negative class indicates that the model is particularly effective at identifying negative reviews, while the recall of 0.93 for the positive class suggests it is equally adept at capturing positive sentiments. Balanced f1-scores for both classes reflect a harmonious balance between precision and recall, pointing to the model's reliability in sentiment classification."
      ]
    },
    {
      "cell_type": "markdown",
      "metadata": {
        "id": "71JxSLqDis48"
      },
      "source": [
        "Save the model for further use"
      ]
    },
    {
      "cell_type": "code",
      "execution_count": null,
      "metadata": {
        "id": "HcRr0EoNW6cs"
      },
      "outputs": [],
      "source": [
        "trainer.save_model('random_forest_model.pkl')"
      ]
    },
    {
      "cell_type": "markdown",
      "metadata": {
        "id": "z6J1bVZKiwUr"
      },
      "source": [
        "Load the model for testing correct saving"
      ]
    },
    {
      "cell_type": "code",
      "execution_count": null,
      "metadata": {
        "id": "SBhjwpM9ySHS"
      },
      "outputs": [],
      "source": [
        "random_forest_model = trainer.load_model('random_forest_model.pkl')"
      ]
    },
    {
      "cell_type": "code",
      "execution_count": null,
      "metadata": {
        "colab": {
          "base_uri": "https://localhost:8080/",
          "height": 175
        },
        "id": "Uyg3OOD1I6QV",
        "outputId": "36b97aae-f722-4950-c990-669c6fb1e725"
      },
      "outputs": [
        {
          "data": {
            "text/html": [
              "\n",
              "  <div id=\"df-01827aeb-6b01-479e-8cd6-38ba3cc522c3\" class=\"colab-df-container\">\n",
              "    <div>\n",
              "<style scoped>\n",
              "    .dataframe tbody tr th:only-of-type {\n",
              "        vertical-align: middle;\n",
              "    }\n",
              "\n",
              "    .dataframe tbody tr th {\n",
              "        vertical-align: top;\n",
              "    }\n",
              "\n",
              "    .dataframe thead th {\n",
              "        text-align: right;\n",
              "    }\n",
              "</style>\n",
              "<table border=\"1\" class=\"dataframe\">\n",
              "  <thead>\n",
              "    <tr style=\"text-align: right;\">\n",
              "      <th></th>\n",
              "      <th>model_name</th>\n",
              "      <th>class_label</th>\n",
              "      <th>accuracy</th>\n",
              "      <th>precision</th>\n",
              "      <th>recall</th>\n",
              "      <th>f1-score</th>\n",
              "      <th>support</th>\n",
              "    </tr>\n",
              "  </thead>\n",
              "  <tbody>\n",
              "    <tr>\n",
              "      <th>0</th>\n",
              "      <td>MultinomialNB</td>\n",
              "      <td>0</td>\n",
              "      <td>0.857148</td>\n",
              "      <td>0.859704</td>\n",
              "      <td>0.853594</td>\n",
              "      <td>0.856638</td>\n",
              "      <td>120425.0</td>\n",
              "    </tr>\n",
              "    <tr>\n",
              "      <th>1</th>\n",
              "      <td>MultinomialNB</td>\n",
              "      <td>1</td>\n",
              "      <td>0.857148</td>\n",
              "      <td>0.854628</td>\n",
              "      <td>0.860703</td>\n",
              "      <td>0.857655</td>\n",
              "      <td>120426.0</td>\n",
              "    </tr>\n",
              "    <tr>\n",
              "      <th>2</th>\n",
              "      <td>Random Forest</td>\n",
              "      <td>0</td>\n",
              "      <td>0.890576</td>\n",
              "      <td>0.927412</td>\n",
              "      <td>0.847482</td>\n",
              "      <td>0.885647</td>\n",
              "      <td>120425.0</td>\n",
              "    </tr>\n",
              "    <tr>\n",
              "      <th>3</th>\n",
              "      <td>Random Forest</td>\n",
              "      <td>1</td>\n",
              "      <td>0.890576</td>\n",
              "      <td>0.859585</td>\n",
              "      <td>0.933669</td>\n",
              "      <td>0.895097</td>\n",
              "      <td>120426.0</td>\n",
              "    </tr>\n",
              "  </tbody>\n",
              "</table>\n",
              "</div>\n",
              "    <div class=\"colab-df-buttons\">\n",
              "\n",
              "  <div class=\"colab-df-container\">\n",
              "    <button class=\"colab-df-convert\" onclick=\"convertToInteractive('df-01827aeb-6b01-479e-8cd6-38ba3cc522c3')\"\n",
              "            title=\"Convert this dataframe to an interactive table.\"\n",
              "            style=\"display:none;\">\n",
              "\n",
              "  <svg xmlns=\"http://www.w3.org/2000/svg\" height=\"24px\" viewBox=\"0 -960 960 960\">\n",
              "    <path d=\"M120-120v-720h720v720H120Zm60-500h600v-160H180v160Zm220 220h160v-160H400v160Zm0 220h160v-160H400v160ZM180-400h160v-160H180v160Zm440 0h160v-160H620v160ZM180-180h160v-160H180v160Zm440 0h160v-160H620v160Z\"/>\n",
              "  </svg>\n",
              "    </button>\n",
              "\n",
              "  <style>\n",
              "    .colab-df-container {\n",
              "      display:flex;\n",
              "      gap: 12px;\n",
              "    }\n",
              "\n",
              "    .colab-df-convert {\n",
              "      background-color: #E8F0FE;\n",
              "      border: none;\n",
              "      border-radius: 50%;\n",
              "      cursor: pointer;\n",
              "      display: none;\n",
              "      fill: #1967D2;\n",
              "      height: 32px;\n",
              "      padding: 0 0 0 0;\n",
              "      width: 32px;\n",
              "    }\n",
              "\n",
              "    .colab-df-convert:hover {\n",
              "      background-color: #E2EBFA;\n",
              "      box-shadow: 0px 1px 2px rgba(60, 64, 67, 0.3), 0px 1px 3px 1px rgba(60, 64, 67, 0.15);\n",
              "      fill: #174EA6;\n",
              "    }\n",
              "\n",
              "    .colab-df-buttons div {\n",
              "      margin-bottom: 4px;\n",
              "    }\n",
              "\n",
              "    [theme=dark] .colab-df-convert {\n",
              "      background-color: #3B4455;\n",
              "      fill: #D2E3FC;\n",
              "    }\n",
              "\n",
              "    [theme=dark] .colab-df-convert:hover {\n",
              "      background-color: #434B5C;\n",
              "      box-shadow: 0px 1px 3px 1px rgba(0, 0, 0, 0.15);\n",
              "      filter: drop-shadow(0px 1px 2px rgba(0, 0, 0, 0.3));\n",
              "      fill: #FFFFFF;\n",
              "    }\n",
              "  </style>\n",
              "\n",
              "    <script>\n",
              "      const buttonEl =\n",
              "        document.querySelector('#df-01827aeb-6b01-479e-8cd6-38ba3cc522c3 button.colab-df-convert');\n",
              "      buttonEl.style.display =\n",
              "        google.colab.kernel.accessAllowed ? 'block' : 'none';\n",
              "\n",
              "      async function convertToInteractive(key) {\n",
              "        const element = document.querySelector('#df-01827aeb-6b01-479e-8cd6-38ba3cc522c3');\n",
              "        const dataTable =\n",
              "          await google.colab.kernel.invokeFunction('convertToInteractive',\n",
              "                                                    [key], {});\n",
              "        if (!dataTable) return;\n",
              "\n",
              "        const docLinkHtml = 'Like what you see? Visit the ' +\n",
              "          '<a target=\"_blank\" href=https://colab.research.google.com/notebooks/data_table.ipynb>data table notebook</a>'\n",
              "          + ' to learn more about interactive tables.';\n",
              "        element.innerHTML = '';\n",
              "        dataTable['output_type'] = 'display_data';\n",
              "        await google.colab.output.renderOutput(dataTable, element);\n",
              "        const docLink = document.createElement('div');\n",
              "        docLink.innerHTML = docLinkHtml;\n",
              "        element.appendChild(docLink);\n",
              "      }\n",
              "    </script>\n",
              "  </div>\n",
              "\n",
              "\n",
              "<div id=\"df-80b8c1d6-509a-4282-ab0b-bcc299a4ce92\">\n",
              "  <button class=\"colab-df-quickchart\" onclick=\"quickchart('df-80b8c1d6-509a-4282-ab0b-bcc299a4ce92')\"\n",
              "            title=\"Suggest charts\"\n",
              "            style=\"display:none;\">\n",
              "\n",
              "<svg xmlns=\"http://www.w3.org/2000/svg\" height=\"24px\"viewBox=\"0 0 24 24\"\n",
              "     width=\"24px\">\n",
              "    <g>\n",
              "        <path d=\"M19 3H5c-1.1 0-2 .9-2 2v14c0 1.1.9 2 2 2h14c1.1 0 2-.9 2-2V5c0-1.1-.9-2-2-2zM9 17H7v-7h2v7zm4 0h-2V7h2v10zm4 0h-2v-4h2v4z\"/>\n",
              "    </g>\n",
              "</svg>\n",
              "  </button>\n",
              "\n",
              "<style>\n",
              "  .colab-df-quickchart {\n",
              "      --bg-color: #E8F0FE;\n",
              "      --fill-color: #1967D2;\n",
              "      --hover-bg-color: #E2EBFA;\n",
              "      --hover-fill-color: #174EA6;\n",
              "      --disabled-fill-color: #AAA;\n",
              "      --disabled-bg-color: #DDD;\n",
              "  }\n",
              "\n",
              "  [theme=dark] .colab-df-quickchart {\n",
              "      --bg-color: #3B4455;\n",
              "      --fill-color: #D2E3FC;\n",
              "      --hover-bg-color: #434B5C;\n",
              "      --hover-fill-color: #FFFFFF;\n",
              "      --disabled-bg-color: #3B4455;\n",
              "      --disabled-fill-color: #666;\n",
              "  }\n",
              "\n",
              "  .colab-df-quickchart {\n",
              "    background-color: var(--bg-color);\n",
              "    border: none;\n",
              "    border-radius: 50%;\n",
              "    cursor: pointer;\n",
              "    display: none;\n",
              "    fill: var(--fill-color);\n",
              "    height: 32px;\n",
              "    padding: 0;\n",
              "    width: 32px;\n",
              "  }\n",
              "\n",
              "  .colab-df-quickchart:hover {\n",
              "    background-color: var(--hover-bg-color);\n",
              "    box-shadow: 0 1px 2px rgba(60, 64, 67, 0.3), 0 1px 3px 1px rgba(60, 64, 67, 0.15);\n",
              "    fill: var(--button-hover-fill-color);\n",
              "  }\n",
              "\n",
              "  .colab-df-quickchart-complete:disabled,\n",
              "  .colab-df-quickchart-complete:disabled:hover {\n",
              "    background-color: var(--disabled-bg-color);\n",
              "    fill: var(--disabled-fill-color);\n",
              "    box-shadow: none;\n",
              "  }\n",
              "\n",
              "  .colab-df-spinner {\n",
              "    border: 2px solid var(--fill-color);\n",
              "    border-color: transparent;\n",
              "    border-bottom-color: var(--fill-color);\n",
              "    animation:\n",
              "      spin 1s steps(1) infinite;\n",
              "  }\n",
              "\n",
              "  @keyframes spin {\n",
              "    0% {\n",
              "      border-color: transparent;\n",
              "      border-bottom-color: var(--fill-color);\n",
              "      border-left-color: var(--fill-color);\n",
              "    }\n",
              "    20% {\n",
              "      border-color: transparent;\n",
              "      border-left-color: var(--fill-color);\n",
              "      border-top-color: var(--fill-color);\n",
              "    }\n",
              "    30% {\n",
              "      border-color: transparent;\n",
              "      border-left-color: var(--fill-color);\n",
              "      border-top-color: var(--fill-color);\n",
              "      border-right-color: var(--fill-color);\n",
              "    }\n",
              "    40% {\n",
              "      border-color: transparent;\n",
              "      border-right-color: var(--fill-color);\n",
              "      border-top-color: var(--fill-color);\n",
              "    }\n",
              "    60% {\n",
              "      border-color: transparent;\n",
              "      border-right-color: var(--fill-color);\n",
              "    }\n",
              "    80% {\n",
              "      border-color: transparent;\n",
              "      border-right-color: var(--fill-color);\n",
              "      border-bottom-color: var(--fill-color);\n",
              "    }\n",
              "    90% {\n",
              "      border-color: transparent;\n",
              "      border-bottom-color: var(--fill-color);\n",
              "    }\n",
              "  }\n",
              "</style>\n",
              "\n",
              "  <script>\n",
              "    async function quickchart(key) {\n",
              "      const quickchartButtonEl =\n",
              "        document.querySelector('#' + key + ' button');\n",
              "      quickchartButtonEl.disabled = true;  // To prevent multiple clicks.\n",
              "      quickchartButtonEl.classList.add('colab-df-spinner');\n",
              "      try {\n",
              "        const charts = await google.colab.kernel.invokeFunction(\n",
              "            'suggestCharts', [key], {});\n",
              "      } catch (error) {\n",
              "        console.error('Error during call to suggestCharts:', error);\n",
              "      }\n",
              "      quickchartButtonEl.classList.remove('colab-df-spinner');\n",
              "      quickchartButtonEl.classList.add('colab-df-quickchart-complete');\n",
              "    }\n",
              "    (() => {\n",
              "      let quickchartButtonEl =\n",
              "        document.querySelector('#df-80b8c1d6-509a-4282-ab0b-bcc299a4ce92 button');\n",
              "      quickchartButtonEl.style.display =\n",
              "        google.colab.kernel.accessAllowed ? 'block' : 'none';\n",
              "    })();\n",
              "  </script>\n",
              "</div>\n",
              "\n",
              "  <div id=\"id_5c0d2f60-ce7b-4d83-aadf-0603bd4ad32c\">\n",
              "    <style>\n",
              "      .colab-df-generate {\n",
              "        background-color: #E8F0FE;\n",
              "        border: none;\n",
              "        border-radius: 50%;\n",
              "        cursor: pointer;\n",
              "        display: none;\n",
              "        fill: #1967D2;\n",
              "        height: 32px;\n",
              "        padding: 0 0 0 0;\n",
              "        width: 32px;\n",
              "      }\n",
              "\n",
              "      .colab-df-generate:hover {\n",
              "        background-color: #E2EBFA;\n",
              "        box-shadow: 0px 1px 2px rgba(60, 64, 67, 0.3), 0px 1px 3px 1px rgba(60, 64, 67, 0.15);\n",
              "        fill: #174EA6;\n",
              "      }\n",
              "\n",
              "      [theme=dark] .colab-df-generate {\n",
              "        background-color: #3B4455;\n",
              "        fill: #D2E3FC;\n",
              "      }\n",
              "\n",
              "      [theme=dark] .colab-df-generate:hover {\n",
              "        background-color: #434B5C;\n",
              "        box-shadow: 0px 1px 3px 1px rgba(0, 0, 0, 0.15);\n",
              "        filter: drop-shadow(0px 1px 2px rgba(0, 0, 0, 0.3));\n",
              "        fill: #FFFFFF;\n",
              "      }\n",
              "    </style>\n",
              "    <button class=\"colab-df-generate\" onclick=\"generateWithVariable('metrics_df')\"\n",
              "            title=\"Generate code using this dataframe.\"\n",
              "            style=\"display:none;\">\n",
              "\n",
              "  <svg xmlns=\"http://www.w3.org/2000/svg\" height=\"24px\"viewBox=\"0 0 24 24\"\n",
              "       width=\"24px\">\n",
              "    <path d=\"M7,19H8.4L18.45,9,17,7.55,7,17.6ZM5,21V16.75L18.45,3.32a2,2,0,0,1,2.83,0l1.4,1.43a1.91,1.91,0,0,1,.58,1.4,1.91,1.91,0,0,1-.58,1.4L9.25,21ZM18.45,9,17,7.55Zm-12,3A5.31,5.31,0,0,0,4.9,8.1,5.31,5.31,0,0,0,1,6.5,5.31,5.31,0,0,0,4.9,4.9,5.31,5.31,0,0,0,6.5,1,5.31,5.31,0,0,0,8.1,4.9,5.31,5.31,0,0,0,12,6.5,5.46,5.46,0,0,0,6.5,12Z\"/>\n",
              "  </svg>\n",
              "    </button>\n",
              "    <script>\n",
              "      (() => {\n",
              "      const buttonEl =\n",
              "        document.querySelector('#id_5c0d2f60-ce7b-4d83-aadf-0603bd4ad32c button.colab-df-generate');\n",
              "      buttonEl.style.display =\n",
              "        google.colab.kernel.accessAllowed ? 'block' : 'none';\n",
              "\n",
              "      buttonEl.onclick = () => {\n",
              "        google.colab.notebook.generateWithVariable('metrics_df');\n",
              "      }\n",
              "      })();\n",
              "    </script>\n",
              "  </div>\n",
              "\n",
              "    </div>\n",
              "  </div>\n"
            ],
            "text/plain": [
              "      model_name class_label  accuracy  precision    recall  f1-score  \\\n",
              "0  MultinomialNB           0  0.857148   0.859704  0.853594  0.856638   \n",
              "1  MultinomialNB           1  0.857148   0.854628  0.860703  0.857655   \n",
              "2  Random Forest           0  0.890576   0.927412  0.847482  0.885647   \n",
              "3  Random Forest           1  0.890576   0.859585  0.933669  0.895097   \n",
              "\n",
              "    support  \n",
              "0  120425.0  \n",
              "1  120426.0  \n",
              "2  120425.0  \n",
              "3  120426.0  "
            ]
          },
          "execution_count": 46,
          "metadata": {},
          "output_type": "execute_result"
        }
      ],
      "source": [
        "new_metrics_df = add_model_report(y_test, random_forest_model.predict(X_test_tfidf), 'Random Forest')\n",
        "metrics_df = pd.concat([metrics_df, new_metrics_df]).reset_index(drop=True)\n",
        "\n",
        "metrics_df"
      ]
    },
    {
      "cell_type": "markdown",
      "metadata": {
        "id": "wp9WJQa9jCF5"
      },
      "source": [
        "Perform evaluation on `sentiment_samples` data"
      ]
    },
    {
      "cell_type": "code",
      "execution_count": null,
      "metadata": {
        "colab": {
          "base_uri": "https://localhost:8080/"
        },
        "id": "ZBU8lZxDms7r",
        "outputId": "27e24bc9-7867-48d9-9cc5-53399023af26"
      },
      "outputs": [
        {
          "name": "stdout",
          "output_type": "stream",
          "text": [
            "\"Absolutely disappointed with this blender. It stopped working after just two uses. Customer service was unhelpful, and there's no option for a refund or replacement. A total waste of money.\"\n",
            "\t => 0\n",
            "\"This smartphone case is a total letdown. It doesn't fit properly and offers zero protection. Dropped my phone once, and the screen shattered. Not worth it at all.\"\n",
            "\t => 1\n",
            "\"Bought these headphones based on reviews, but they're just okay. The sound quality is mediocre, and they're quite uncomfortable for longer use. Not what I expected for the price.\"\n",
            "\t => 0\n",
            "\"This coffee maker is underwhelming. It brews coffee alright, but the design is flawed, making it messy and hard to clean. It's also slower than advertised.\"\n",
            "\t => 1\n",
            "'The gardening tool set is pretty good for the price. The tools are sturdy, although the handles could be more comfortable. Overall, a decent purchase for casual gardening.'\n",
            "\t => 1\n",
            "\"This yoga mat is quite nice. It's durable and offers good grip, though a bit thinner than I prefer. It's great for regular use, though, and easy to clean.\"\n",
            "\t => 1\n",
            "\"Love this laptop! It's fast, lightweight, and the battery life is impressive. Perfect for my work and entertainment needs. Totally worth the investment.\"\n",
            "\t => 1\n",
            "\"This electric toothbrush is fantastic. My teeth have never felt cleaner, and the different modes are very useful. Battery lasts long, and it's easy to use. Highly recommend.\"\n",
            "\t => 1\n",
            "\"The kitchen knife set is exceptional. Razor-sharp, well-balanced, and the handles are comfortable. They've made cooking much more enjoyable. A great buy.\"\n",
            "\t => 1\n",
            "\"This pet bed is a hit with my dog. It's soft, cozy, and durable. Easy to wash and keeps its shape. My dog loves it, and so do I. Great quality for the price.\"\n",
            "\t => 1\n",
            "              precision    recall  f1-score   support\n",
            "\n",
            "    Positive       1.00      0.50      0.67         4\n",
            "    Negative       0.75      1.00      0.86         6\n",
            "\n",
            "    accuracy                           0.80        10\n",
            "   macro avg       0.88      0.75      0.76        10\n",
            "weighted avg       0.85      0.80      0.78        10\n",
            "\n"
          ]
        }
      ],
      "source": [
        "# Transform the sentiment samples into TF-IDF features using the pre-fitted vectorizer\n",
        "X_new_tfidf = text_vectorizer.transform(sentiment_samples)\n",
        "\n",
        "# Predict the sentiment classes for the new samples\n",
        "predicted = random_forest_model.predict(X_new_tfidf)\n",
        "\n",
        "# Print each sentiment sample with its corresponding predicted class\n",
        "for doc, category in zip(sentiment_samples, predicted):\n",
        "    print('%r\\n\\t => %s' % (doc, category))\n",
        "\n",
        "# Generate the classification report comparing true labels and predicted labels\n",
        "# Here 'Positive' is labeled as '1' and 'Negative' as '0'\n",
        "report = classification_report(sentiment_samples_true, predicted, target_names=['Positive', 'Negative'], output_dict=False)\n",
        "print(report)"
      ]
    },
    {
      "cell_type": "markdown",
      "metadata": {
        "id": "PNJnoAr-EbqO"
      },
      "source": [
        "The output from the sentiment classification model showcases a commendable level of accuracy in identifying the polarity of sentiment in product reviews. The Random Forest model has demonstrated a good classification performance."
      ]
    },
    {
      "cell_type": "markdown",
      "metadata": {
        "id": "58UtKI7Mcy7D"
      },
      "source": [
        "### Stocastic Gradient Descent"
      ]
    },
    {
      "cell_type": "markdown",
      "metadata": {
        "id": "vCf9wHsRjnh5"
      },
      "source": [
        "The following code cell trains a new model using the ModelTrainer class. It specifically sets up a Stocastic Gradient Descent classifier, a linear classifier that minimizes a chosen loss function by iteratively moving towards the minimum of the loss function. The code sets up a parameter grid for hyperparameter tuning with a variety of options for alpha (regularization strength), loss function, learning rate type, and eta0 (initial learning rate)."
      ]
    },
    {
      "cell_type": "code",
      "execution_count": null,
      "metadata": {
        "id": "3Lnj1bGFCFed"
      },
      "outputs": [],
      "source": [
        "# Define the parameter grid for hyperparameter tuning in grid search\n",
        "param_grid = {\n",
        "    'alpha': [0.0001, 0.001, 0.01],   # Regularization parameter options\n",
        "    'loss': ['hinge', 'log_loss'],  # Different loss function options for SGD\n",
        "    'learning_rate': ['constant', 'optimal', 'adaptive'], # Learning rate schedule options\n",
        "    'eta0': [0.001, 0.01, 0.1],  # Initial learning rate options for certain schedules\n",
        "}\n",
        "\n",
        "# Initialize an instance of ModelUtility with SGDClassifier and initial parameters\n",
        "trainer = ModelTrainer(SGDClassifier, {'max_iter': 1000, 'tol': 1e-3})\n",
        "\n",
        "# Train the model using Grid Search\n",
        "trainer.train(X_tfidf, y_train, use_grid_search=True, grid_params=param_grid)"
      ]
    },
    {
      "cell_type": "markdown",
      "metadata": {
        "id": "dY__-Tmjj5Iz"
      },
      "source": [
        "Evaluate the model"
      ]
    },
    {
      "cell_type": "code",
      "execution_count": null,
      "metadata": {
        "colab": {
          "base_uri": "https://localhost:8080/"
        },
        "id": "Kay41kHBdEow",
        "outputId": "157db0ec-7bcb-467a-e61c-5a159935a4f4"
      },
      "outputs": [
        {
          "name": "stdout",
          "output_type": "stream",
          "text": [
            "              precision    recall  f1-score   support\n",
            "\n",
            "           0       0.88      0.88      0.88    120425\n",
            "           1       0.88      0.88      0.88    120426\n",
            "\n",
            "    accuracy                           0.88    240851\n",
            "   macro avg       0.88      0.88      0.88    240851\n",
            "weighted avg       0.88      0.88      0.88    240851\n",
            "\n"
          ]
        }
      ],
      "source": [
        "metrics = trainer.evaluate(X_test_tfidf, y_test)\n",
        "print(metrics['report'])"
      ]
    },
    {
      "cell_type": "markdown",
      "metadata": {
        "id": "ic7FX21Zj79v"
      },
      "source": [
        "Save the model for further use"
      ]
    },
    {
      "cell_type": "code",
      "execution_count": null,
      "metadata": {
        "id": "rHkVGZL0dNY9"
      },
      "outputs": [],
      "source": [
        "trainer.save_model('sgd_classifier_model.pkl')"
      ]
    },
    {
      "cell_type": "markdown",
      "metadata": {
        "id": "q35gIzVAj_-R"
      },
      "source": [
        "Load the model for testing correct saving"
      ]
    },
    {
      "cell_type": "code",
      "execution_count": null,
      "metadata": {
        "id": "0vN5QMKRMa8I"
      },
      "outputs": [],
      "source": [
        "sgd_classifier_model = trainer.load_model('sgd_classifier_model.pkl')"
      ]
    },
    {
      "cell_type": "code",
      "execution_count": null,
      "metadata": {
        "colab": {
          "base_uri": "https://localhost:8080/",
          "height": 237
        },
        "id": "7DEz9-47dUrs",
        "outputId": "5d531e8e-9cff-4f8d-86bc-cb31f4961c44"
      },
      "outputs": [
        {
          "data": {
            "text/html": [
              "\n",
              "  <div id=\"df-8c991dba-b254-46f0-99f0-8c799addd88d\" class=\"colab-df-container\">\n",
              "    <div>\n",
              "<style scoped>\n",
              "    .dataframe tbody tr th:only-of-type {\n",
              "        vertical-align: middle;\n",
              "    }\n",
              "\n",
              "    .dataframe tbody tr th {\n",
              "        vertical-align: top;\n",
              "    }\n",
              "\n",
              "    .dataframe thead th {\n",
              "        text-align: right;\n",
              "    }\n",
              "</style>\n",
              "<table border=\"1\" class=\"dataframe\">\n",
              "  <thead>\n",
              "    <tr style=\"text-align: right;\">\n",
              "      <th></th>\n",
              "      <th>model_name</th>\n",
              "      <th>class_label</th>\n",
              "      <th>accuracy</th>\n",
              "      <th>precision</th>\n",
              "      <th>recall</th>\n",
              "      <th>f1-score</th>\n",
              "      <th>support</th>\n",
              "    </tr>\n",
              "  </thead>\n",
              "  <tbody>\n",
              "    <tr>\n",
              "      <th>0</th>\n",
              "      <td>MultinomialNB</td>\n",
              "      <td>0</td>\n",
              "      <td>0.857148</td>\n",
              "      <td>0.859704</td>\n",
              "      <td>0.853594</td>\n",
              "      <td>0.856638</td>\n",
              "      <td>120425.0</td>\n",
              "    </tr>\n",
              "    <tr>\n",
              "      <th>1</th>\n",
              "      <td>MultinomialNB</td>\n",
              "      <td>1</td>\n",
              "      <td>0.857148</td>\n",
              "      <td>0.854628</td>\n",
              "      <td>0.860703</td>\n",
              "      <td>0.857655</td>\n",
              "      <td>120426.0</td>\n",
              "    </tr>\n",
              "    <tr>\n",
              "      <th>2</th>\n",
              "      <td>Random Forest</td>\n",
              "      <td>0</td>\n",
              "      <td>0.890576</td>\n",
              "      <td>0.927412</td>\n",
              "      <td>0.847482</td>\n",
              "      <td>0.885647</td>\n",
              "      <td>120425.0</td>\n",
              "    </tr>\n",
              "    <tr>\n",
              "      <th>3</th>\n",
              "      <td>Random Forest</td>\n",
              "      <td>1</td>\n",
              "      <td>0.890576</td>\n",
              "      <td>0.859585</td>\n",
              "      <td>0.933669</td>\n",
              "      <td>0.895097</td>\n",
              "      <td>120426.0</td>\n",
              "    </tr>\n",
              "    <tr>\n",
              "      <th>4</th>\n",
              "      <td>Stocastic Gradient Descent</td>\n",
              "      <td>0</td>\n",
              "      <td>0.880951</td>\n",
              "      <td>0.877897</td>\n",
              "      <td>0.884991</td>\n",
              "      <td>0.881430</td>\n",
              "      <td>120425.0</td>\n",
              "    </tr>\n",
              "    <tr>\n",
              "      <th>5</th>\n",
              "      <td>Stocastic Gradient Descent</td>\n",
              "      <td>1</td>\n",
              "      <td>0.880951</td>\n",
              "      <td>0.884055</td>\n",
              "      <td>0.876912</td>\n",
              "      <td>0.880469</td>\n",
              "      <td>120426.0</td>\n",
              "    </tr>\n",
              "  </tbody>\n",
              "</table>\n",
              "</div>\n",
              "    <div class=\"colab-df-buttons\">\n",
              "\n",
              "  <div class=\"colab-df-container\">\n",
              "    <button class=\"colab-df-convert\" onclick=\"convertToInteractive('df-8c991dba-b254-46f0-99f0-8c799addd88d')\"\n",
              "            title=\"Convert this dataframe to an interactive table.\"\n",
              "            style=\"display:none;\">\n",
              "\n",
              "  <svg xmlns=\"http://www.w3.org/2000/svg\" height=\"24px\" viewBox=\"0 -960 960 960\">\n",
              "    <path d=\"M120-120v-720h720v720H120Zm60-500h600v-160H180v160Zm220 220h160v-160H400v160Zm0 220h160v-160H400v160ZM180-400h160v-160H180v160Zm440 0h160v-160H620v160ZM180-180h160v-160H180v160Zm440 0h160v-160H620v160Z\"/>\n",
              "  </svg>\n",
              "    </button>\n",
              "\n",
              "  <style>\n",
              "    .colab-df-container {\n",
              "      display:flex;\n",
              "      gap: 12px;\n",
              "    }\n",
              "\n",
              "    .colab-df-convert {\n",
              "      background-color: #E8F0FE;\n",
              "      border: none;\n",
              "      border-radius: 50%;\n",
              "      cursor: pointer;\n",
              "      display: none;\n",
              "      fill: #1967D2;\n",
              "      height: 32px;\n",
              "      padding: 0 0 0 0;\n",
              "      width: 32px;\n",
              "    }\n",
              "\n",
              "    .colab-df-convert:hover {\n",
              "      background-color: #E2EBFA;\n",
              "      box-shadow: 0px 1px 2px rgba(60, 64, 67, 0.3), 0px 1px 3px 1px rgba(60, 64, 67, 0.15);\n",
              "      fill: #174EA6;\n",
              "    }\n",
              "\n",
              "    .colab-df-buttons div {\n",
              "      margin-bottom: 4px;\n",
              "    }\n",
              "\n",
              "    [theme=dark] .colab-df-convert {\n",
              "      background-color: #3B4455;\n",
              "      fill: #D2E3FC;\n",
              "    }\n",
              "\n",
              "    [theme=dark] .colab-df-convert:hover {\n",
              "      background-color: #434B5C;\n",
              "      box-shadow: 0px 1px 3px 1px rgba(0, 0, 0, 0.15);\n",
              "      filter: drop-shadow(0px 1px 2px rgba(0, 0, 0, 0.3));\n",
              "      fill: #FFFFFF;\n",
              "    }\n",
              "  </style>\n",
              "\n",
              "    <script>\n",
              "      const buttonEl =\n",
              "        document.querySelector('#df-8c991dba-b254-46f0-99f0-8c799addd88d button.colab-df-convert');\n",
              "      buttonEl.style.display =\n",
              "        google.colab.kernel.accessAllowed ? 'block' : 'none';\n",
              "\n",
              "      async function convertToInteractive(key) {\n",
              "        const element = document.querySelector('#df-8c991dba-b254-46f0-99f0-8c799addd88d');\n",
              "        const dataTable =\n",
              "          await google.colab.kernel.invokeFunction('convertToInteractive',\n",
              "                                                    [key], {});\n",
              "        if (!dataTable) return;\n",
              "\n",
              "        const docLinkHtml = 'Like what you see? Visit the ' +\n",
              "          '<a target=\"_blank\" href=https://colab.research.google.com/notebooks/data_table.ipynb>data table notebook</a>'\n",
              "          + ' to learn more about interactive tables.';\n",
              "        element.innerHTML = '';\n",
              "        dataTable['output_type'] = 'display_data';\n",
              "        await google.colab.output.renderOutput(dataTable, element);\n",
              "        const docLink = document.createElement('div');\n",
              "        docLink.innerHTML = docLinkHtml;\n",
              "        element.appendChild(docLink);\n",
              "      }\n",
              "    </script>\n",
              "  </div>\n",
              "\n",
              "\n",
              "<div id=\"df-c9de7a6e-1295-4478-a6d7-e7a7e892b08d\">\n",
              "  <button class=\"colab-df-quickchart\" onclick=\"quickchart('df-c9de7a6e-1295-4478-a6d7-e7a7e892b08d')\"\n",
              "            title=\"Suggest charts\"\n",
              "            style=\"display:none;\">\n",
              "\n",
              "<svg xmlns=\"http://www.w3.org/2000/svg\" height=\"24px\"viewBox=\"0 0 24 24\"\n",
              "     width=\"24px\">\n",
              "    <g>\n",
              "        <path d=\"M19 3H5c-1.1 0-2 .9-2 2v14c0 1.1.9 2 2 2h14c1.1 0 2-.9 2-2V5c0-1.1-.9-2-2-2zM9 17H7v-7h2v7zm4 0h-2V7h2v10zm4 0h-2v-4h2v4z\"/>\n",
              "    </g>\n",
              "</svg>\n",
              "  </button>\n",
              "\n",
              "<style>\n",
              "  .colab-df-quickchart {\n",
              "      --bg-color: #E8F0FE;\n",
              "      --fill-color: #1967D2;\n",
              "      --hover-bg-color: #E2EBFA;\n",
              "      --hover-fill-color: #174EA6;\n",
              "      --disabled-fill-color: #AAA;\n",
              "      --disabled-bg-color: #DDD;\n",
              "  }\n",
              "\n",
              "  [theme=dark] .colab-df-quickchart {\n",
              "      --bg-color: #3B4455;\n",
              "      --fill-color: #D2E3FC;\n",
              "      --hover-bg-color: #434B5C;\n",
              "      --hover-fill-color: #FFFFFF;\n",
              "      --disabled-bg-color: #3B4455;\n",
              "      --disabled-fill-color: #666;\n",
              "  }\n",
              "\n",
              "  .colab-df-quickchart {\n",
              "    background-color: var(--bg-color);\n",
              "    border: none;\n",
              "    border-radius: 50%;\n",
              "    cursor: pointer;\n",
              "    display: none;\n",
              "    fill: var(--fill-color);\n",
              "    height: 32px;\n",
              "    padding: 0;\n",
              "    width: 32px;\n",
              "  }\n",
              "\n",
              "  .colab-df-quickchart:hover {\n",
              "    background-color: var(--hover-bg-color);\n",
              "    box-shadow: 0 1px 2px rgba(60, 64, 67, 0.3), 0 1px 3px 1px rgba(60, 64, 67, 0.15);\n",
              "    fill: var(--button-hover-fill-color);\n",
              "  }\n",
              "\n",
              "  .colab-df-quickchart-complete:disabled,\n",
              "  .colab-df-quickchart-complete:disabled:hover {\n",
              "    background-color: var(--disabled-bg-color);\n",
              "    fill: var(--disabled-fill-color);\n",
              "    box-shadow: none;\n",
              "  }\n",
              "\n",
              "  .colab-df-spinner {\n",
              "    border: 2px solid var(--fill-color);\n",
              "    border-color: transparent;\n",
              "    border-bottom-color: var(--fill-color);\n",
              "    animation:\n",
              "      spin 1s steps(1) infinite;\n",
              "  }\n",
              "\n",
              "  @keyframes spin {\n",
              "    0% {\n",
              "      border-color: transparent;\n",
              "      border-bottom-color: var(--fill-color);\n",
              "      border-left-color: var(--fill-color);\n",
              "    }\n",
              "    20% {\n",
              "      border-color: transparent;\n",
              "      border-left-color: var(--fill-color);\n",
              "      border-top-color: var(--fill-color);\n",
              "    }\n",
              "    30% {\n",
              "      border-color: transparent;\n",
              "      border-left-color: var(--fill-color);\n",
              "      border-top-color: var(--fill-color);\n",
              "      border-right-color: var(--fill-color);\n",
              "    }\n",
              "    40% {\n",
              "      border-color: transparent;\n",
              "      border-right-color: var(--fill-color);\n",
              "      border-top-color: var(--fill-color);\n",
              "    }\n",
              "    60% {\n",
              "      border-color: transparent;\n",
              "      border-right-color: var(--fill-color);\n",
              "    }\n",
              "    80% {\n",
              "      border-color: transparent;\n",
              "      border-right-color: var(--fill-color);\n",
              "      border-bottom-color: var(--fill-color);\n",
              "    }\n",
              "    90% {\n",
              "      border-color: transparent;\n",
              "      border-bottom-color: var(--fill-color);\n",
              "    }\n",
              "  }\n",
              "</style>\n",
              "\n",
              "  <script>\n",
              "    async function quickchart(key) {\n",
              "      const quickchartButtonEl =\n",
              "        document.querySelector('#' + key + ' button');\n",
              "      quickchartButtonEl.disabled = true;  // To prevent multiple clicks.\n",
              "      quickchartButtonEl.classList.add('colab-df-spinner');\n",
              "      try {\n",
              "        const charts = await google.colab.kernel.invokeFunction(\n",
              "            'suggestCharts', [key], {});\n",
              "      } catch (error) {\n",
              "        console.error('Error during call to suggestCharts:', error);\n",
              "      }\n",
              "      quickchartButtonEl.classList.remove('colab-df-spinner');\n",
              "      quickchartButtonEl.classList.add('colab-df-quickchart-complete');\n",
              "    }\n",
              "    (() => {\n",
              "      let quickchartButtonEl =\n",
              "        document.querySelector('#df-c9de7a6e-1295-4478-a6d7-e7a7e892b08d button');\n",
              "      quickchartButtonEl.style.display =\n",
              "        google.colab.kernel.accessAllowed ? 'block' : 'none';\n",
              "    })();\n",
              "  </script>\n",
              "</div>\n",
              "\n",
              "  <div id=\"id_6fa9ee7a-f680-44c6-8289-955be72fb334\">\n",
              "    <style>\n",
              "      .colab-df-generate {\n",
              "        background-color: #E8F0FE;\n",
              "        border: none;\n",
              "        border-radius: 50%;\n",
              "        cursor: pointer;\n",
              "        display: none;\n",
              "        fill: #1967D2;\n",
              "        height: 32px;\n",
              "        padding: 0 0 0 0;\n",
              "        width: 32px;\n",
              "      }\n",
              "\n",
              "      .colab-df-generate:hover {\n",
              "        background-color: #E2EBFA;\n",
              "        box-shadow: 0px 1px 2px rgba(60, 64, 67, 0.3), 0px 1px 3px 1px rgba(60, 64, 67, 0.15);\n",
              "        fill: #174EA6;\n",
              "      }\n",
              "\n",
              "      [theme=dark] .colab-df-generate {\n",
              "        background-color: #3B4455;\n",
              "        fill: #D2E3FC;\n",
              "      }\n",
              "\n",
              "      [theme=dark] .colab-df-generate:hover {\n",
              "        background-color: #434B5C;\n",
              "        box-shadow: 0px 1px 3px 1px rgba(0, 0, 0, 0.15);\n",
              "        filter: drop-shadow(0px 1px 2px rgba(0, 0, 0, 0.3));\n",
              "        fill: #FFFFFF;\n",
              "      }\n",
              "    </style>\n",
              "    <button class=\"colab-df-generate\" onclick=\"generateWithVariable('metrics_df')\"\n",
              "            title=\"Generate code using this dataframe.\"\n",
              "            style=\"display:none;\">\n",
              "\n",
              "  <svg xmlns=\"http://www.w3.org/2000/svg\" height=\"24px\"viewBox=\"0 0 24 24\"\n",
              "       width=\"24px\">\n",
              "    <path d=\"M7,19H8.4L18.45,9,17,7.55,7,17.6ZM5,21V16.75L18.45,3.32a2,2,0,0,1,2.83,0l1.4,1.43a1.91,1.91,0,0,1,.58,1.4,1.91,1.91,0,0,1-.58,1.4L9.25,21ZM18.45,9,17,7.55Zm-12,3A5.31,5.31,0,0,0,4.9,8.1,5.31,5.31,0,0,0,1,6.5,5.31,5.31,0,0,0,4.9,4.9,5.31,5.31,0,0,0,6.5,1,5.31,5.31,0,0,0,8.1,4.9,5.31,5.31,0,0,0,12,6.5,5.46,5.46,0,0,0,6.5,12Z\"/>\n",
              "  </svg>\n",
              "    </button>\n",
              "    <script>\n",
              "      (() => {\n",
              "      const buttonEl =\n",
              "        document.querySelector('#id_6fa9ee7a-f680-44c6-8289-955be72fb334 button.colab-df-generate');\n",
              "      buttonEl.style.display =\n",
              "        google.colab.kernel.accessAllowed ? 'block' : 'none';\n",
              "\n",
              "      buttonEl.onclick = () => {\n",
              "        google.colab.notebook.generateWithVariable('metrics_df');\n",
              "      }\n",
              "      })();\n",
              "    </script>\n",
              "  </div>\n",
              "\n",
              "    </div>\n",
              "  </div>\n"
            ],
            "text/plain": [
              "                   model_name class_label  accuracy  precision    recall  \\\n",
              "0               MultinomialNB           0  0.857148   0.859704  0.853594   \n",
              "1               MultinomialNB           1  0.857148   0.854628  0.860703   \n",
              "2               Random Forest           0  0.890576   0.927412  0.847482   \n",
              "3               Random Forest           1  0.890576   0.859585  0.933669   \n",
              "4  Stocastic Gradient Descent           0  0.880951   0.877897  0.884991   \n",
              "5  Stocastic Gradient Descent           1  0.880951   0.884055  0.876912   \n",
              "\n",
              "   f1-score   support  \n",
              "0  0.856638  120425.0  \n",
              "1  0.857655  120426.0  \n",
              "2  0.885647  120425.0  \n",
              "3  0.895097  120426.0  \n",
              "4  0.881430  120425.0  \n",
              "5  0.880469  120426.0  "
            ]
          },
          "execution_count": 52,
          "metadata": {},
          "output_type": "execute_result"
        }
      ],
      "source": [
        "new_metrics_df = add_model_report(y_test, sgd_classifier_model.predict(X_test_tfidf), 'Stocastic Gradient Descent')\n",
        "metrics_df = pd.concat([metrics_df, new_metrics_df]).reset_index(drop=True)\n",
        "\n",
        "# Print the DataFrame\n",
        "metrics_df"
      ]
    },
    {
      "cell_type": "code",
      "execution_count": null,
      "metadata": {
        "colab": {
          "base_uri": "https://localhost:8080/"
        },
        "id": "R2uWUFLPpV9F",
        "outputId": "2dd3c26e-dd19-4efc-bc98-cf68d516cd30"
      },
      "outputs": [
        {
          "name": "stdout",
          "output_type": "stream",
          "text": [
            "\"Absolutely disappointed with this blender. It stopped working after just two uses. Customer service was unhelpful, and there's no option for a refund or replacement. A total waste of money.\"\n",
            "\t => 0\n",
            "\"This smartphone case is a total letdown. It doesn't fit properly and offers zero protection. Dropped my phone once, and the screen shattered. Not worth it at all.\"\n",
            "\t => 0\n",
            "\"Bought these headphones based on reviews, but they're just okay. The sound quality is mediocre, and they're quite uncomfortable for longer use. Not what I expected for the price.\"\n",
            "\t => 0\n",
            "\"This coffee maker is underwhelming. It brews coffee alright, but the design is flawed, making it messy and hard to clean. It's also slower than advertised.\"\n",
            "\t => 1\n",
            "'The gardening tool set is pretty good for the price. The tools are sturdy, although the handles could be more comfortable. Overall, a decent purchase for casual gardening.'\n",
            "\t => 1\n",
            "\"This yoga mat is quite nice. It's durable and offers good grip, though a bit thinner than I prefer. It's great for regular use, though, and easy to clean.\"\n",
            "\t => 1\n",
            "\"Love this laptop! It's fast, lightweight, and the battery life is impressive. Perfect for my work and entertainment needs. Totally worth the investment.\"\n",
            "\t => 1\n",
            "\"This electric toothbrush is fantastic. My teeth have never felt cleaner, and the different modes are very useful. Battery lasts long, and it's easy to use. Highly recommend.\"\n",
            "\t => 1\n",
            "\"The kitchen knife set is exceptional. Razor-sharp, well-balanced, and the handles are comfortable. They've made cooking much more enjoyable. A great buy.\"\n",
            "\t => 1\n",
            "\"This pet bed is a hit with my dog. It's soft, cozy, and durable. Easy to wash and keeps its shape. My dog loves it, and so do I. Great quality for the price.\"\n",
            "\t => 1\n",
            "              precision    recall  f1-score   support\n",
            "\n",
            "    Positive       1.00      0.75      0.86         4\n",
            "    Negative       0.86      1.00      0.92         6\n",
            "\n",
            "    accuracy                           0.90        10\n",
            "   macro avg       0.93      0.88      0.89        10\n",
            "weighted avg       0.91      0.90      0.90        10\n",
            "\n"
          ]
        }
      ],
      "source": [
        "# Transform the sentiment samples into TF-IDF features using the pre-fitted vectorizer\n",
        "X_new_tfidf = text_vectorizer.transform(sentiment_samples)\n",
        "\n",
        "# Predict the sentiment classes for the new samples\n",
        "predicted = sgd_classifier_model.predict(X_new_tfidf)\n",
        "\n",
        "# Print each sentiment sample with its corresponding predicted class\n",
        "for doc, category in zip(sentiment_samples, predicted):\n",
        "    print('%r\\n\\t => %s' % (doc, category))\n",
        "\n",
        "# Generate the classification report comparing true labels and predicted labels\n",
        "# Here 'Positive' is labeled as '1' and 'Negative' as '0'\n",
        "report = classification_report(sentiment_samples_true, predicted, target_names=['Positive', 'Negative'], output_dict=False)\n",
        "print(report)"
      ]
    },
    {
      "cell_type": "markdown",
      "metadata": {
        "id": "__V9Z1MNEFfQ"
      },
      "source": [
        "The results demonstrate that the SGD classifier accurately predicted the sentiment for all but one sample. Achieving a good performance, in the same way as the other trained models."
      ]
    },
    {
      "cell_type": "markdown",
      "metadata": {
        "id": "3_RTvVsGC5Dk"
      },
      "source": [
        "## Music Category Classification"
      ]
    },
    {
      "cell_type": "markdown",
      "metadata": {
        "id": "zVYoPZaLEAPY"
      },
      "source": [
        "### Multinomial Naive Bayes Classification"
      ]
    },
    {
      "cell_type": "code",
      "execution_count": 23,
      "metadata": {
        "id": "pW6JYcQJOuAP"
      },
      "outputs": [],
      "source": [
        "from sklearn.naive_bayes import MultinomialNB\n",
        "from sklearn.ensemble import RandomForestClassifier\n",
        "from sklearn.linear_model import SGDClassifier\n",
        "\n",
        "from sklearn.metrics import classification_report"
      ]
    },
    {
      "cell_type": "code",
      "execution_count": 26,
      "metadata": {
        "id": "orbjvt3DpWam"
      },
      "outputs": [],
      "source": [
        "music_training_dataset = all_datasets[0][0]\n",
        "music_test_dataset = all_datasets[0][1]\n",
        "\n",
        "X_train = music_training_dataset['review_text']\n",
        "y_train = music_training_dataset['review_class']\n",
        "\n",
        "X_test = music_training_dataset['review_text']\n",
        "y_test = music_training_dataset['review_class']\n",
        "\n",
        "text_vectorizer = TextVectorizer()\n",
        "X_train_tfidf, X_test_tfidf = vectorize_text(text_vectorizer, X_train, X_test, 'text_vectorizer_musics.joblib')"
      ]
    },
    {
      "cell_type": "code",
      "execution_count": null,
      "metadata": {
        "id": "3Ca2JttcTV3_"
      },
      "outputs": [],
      "source": [
        "sentiment_samples = [\n",
        "    # Very Negative (1.0)\n",
        "    \"Absolutely disappointed with this blender. It stopped working after just two uses. Customer service was unhelpful, and there's no option for a refund or replacement. A total waste of money.\",  # GT: 1.0\n",
        "    \"This smartphone case is a total letdown. It doesn't fit properly and offers zero protection. Dropped my phone once, and the screen shattered. Not worth it at all.\",  # GT: 1.0\n",
        "\n",
        "    # Negative (2.0)\n",
        "    \"Bought these headphones based on reviews, but they're just okay. The sound quality is mediocre, and they're quite uncomfortable for longer use. Not what I expected for the price.\",  # GT: 2.0\n",
        "    \"This coffee maker is underwhelming. It brews coffee alright, but the design is flawed, making it messy and hard to clean. It's also slower than advertised.\",  # GT: 2.0\n",
        "\n",
        "    # Positive (4.0)\n",
        "    \"The gardening tool set is pretty good for the price. The tools are sturdy, although the handles could be more comfortable. Overall, a decent purchase for casual gardening.\",  # GT: 4.0\n",
        "    \"This yoga mat is quite nice. It's durable and offers good grip, though a bit thinner than I prefer. It's great for regular use, though, and easy to clean.\",  # GT: 4.0\n",
        "\n",
        "    # Very Positive (5.0)\n",
        "    \"Love this laptop! It's fast, lightweight, and the battery life is impressive. Perfect for my work and entertainment needs. Totally worth the investment.\",  # GT: 5.0\n",
        "    \"This electric toothbrush is fantastic. My teeth have never felt cleaner, and the different modes are very useful. Battery lasts long, and it's easy to use. Highly recommend.\",  # GT: 5.0\n",
        "    \"The kitchen knife set is exceptional. Razor-sharp, well-balanced, and the handles are comfortable. They've made cooking much more enjoyable. A great buy.\",  # GT: 5.0\n",
        "    \"This pet bed is a hit with my dog. It's soft, cozy, and durable. Easy to wash and keeps its shape. My dog loves it, and so do I. Great quality for the price.\"  # GT: 5.0\n",
        "]\n",
        "\n",
        "sentiment_samples_true = ['0', '0', '0', '0', '1', '1', '1', '1', '1', '1']"
      ]
    },
    {
      "cell_type": "code",
      "execution_count": 25,
      "metadata": {
        "colab": {
          "base_uri": "https://localhost:8080/"
        },
        "id": "46hKS7DgOoIA",
        "outputId": "3c1d2e14-d39a-4fac-8439-3fe5efee4c50"
      },
      "outputs": [
        {
          "ename": "NameError",
          "evalue": "name 'X_train_tfidf' is not defined",
          "output_type": "error",
          "traceback": [
            "\u001b[0;31m---------------------------------------------------------------------------\u001b[0m",
            "\u001b[0;31mNameError\u001b[0m                                 Traceback (most recent call last)",
            "Cell \u001b[0;32mIn[25], line 76\u001b[0m\n\u001b[1;32m     53\u001b[0m     \u001b[38;5;28mprint\u001b[39m(\u001b[38;5;124m\"\u001b[39m\u001b[38;5;130;01m\\n\u001b[39;00m\u001b[38;5;124m\"\u001b[39m)\n\u001b[1;32m     55\u001b[0m \u001b[38;5;66;03m# mnb_trainer, mnb_metrics, mnbf_model = train_evaluate_save_load_model(\u001b[39;00m\n\u001b[1;32m     56\u001b[0m \u001b[38;5;66;03m#   X_train_tfidf, \u001b[39;00m\n\u001b[1;32m     57\u001b[0m \u001b[38;5;66;03m#   y_train, \u001b[39;00m\n\u001b[0;32m   (...)\u001b[0m\n\u001b[1;32m     72\u001b[0m \u001b[38;5;66;03m#   model_name='random_forest'\u001b[39;00m\n\u001b[1;32m     73\u001b[0m \u001b[38;5;66;03m# )\u001b[39;00m\n\u001b[1;32m     75\u001b[0m sgd_trainer, sgd_metrics, sgdc_model \u001b[38;5;241m=\u001b[39m train_evaluate_save_load_model(\n\u001b[0;32m---> 76\u001b[0m   \u001b[43mX_train_tfidf\u001b[49m, \n\u001b[1;32m     77\u001b[0m   y_train, \n\u001b[1;32m     78\u001b[0m   X_test_tfidf, \n\u001b[1;32m     79\u001b[0m   y_test, \n\u001b[1;32m     80\u001b[0m   SGDClassifier, \n\u001b[1;32m     81\u001b[0m   param_grid\u001b[38;5;241m=\u001b[39m{\u001b[38;5;124m'\u001b[39m\u001b[38;5;124malpha\u001b[39m\u001b[38;5;124m'\u001b[39m: [\u001b[38;5;241m0.0001\u001b[39m, \u001b[38;5;241m0.001\u001b[39m, \u001b[38;5;241m0.01\u001b[39m], \u001b[38;5;124m'\u001b[39m\u001b[38;5;124mloss\u001b[39m\u001b[38;5;124m'\u001b[39m: [\u001b[38;5;124m'\u001b[39m\u001b[38;5;124mhinge\u001b[39m\u001b[38;5;124m'\u001b[39m, \u001b[38;5;124m'\u001b[39m\u001b[38;5;124mlog_loss\u001b[39m\u001b[38;5;124m'\u001b[39m], \u001b[38;5;124m'\u001b[39m\u001b[38;5;124mlearning_rate\u001b[39m\u001b[38;5;124m'\u001b[39m: [\u001b[38;5;124m'\u001b[39m\u001b[38;5;124mconstant\u001b[39m\u001b[38;5;124m'\u001b[39m, \u001b[38;5;124m'\u001b[39m\u001b[38;5;124moptimal\u001b[39m\u001b[38;5;124m'\u001b[39m, \u001b[38;5;124m'\u001b[39m\u001b[38;5;124madaptive\u001b[39m\u001b[38;5;124m'\u001b[39m], \u001b[38;5;124m'\u001b[39m\u001b[38;5;124meta0\u001b[39m\u001b[38;5;124m'\u001b[39m: [\u001b[38;5;241m0.001\u001b[39m, \u001b[38;5;241m0.01\u001b[39m, \u001b[38;5;241m0.1\u001b[39m]}, \n\u001b[1;32m     82\u001b[0m   model_params\u001b[38;5;241m=\u001b[39m{\u001b[38;5;124m'\u001b[39m\u001b[38;5;124mmax_iter\u001b[39m\u001b[38;5;124m'\u001b[39m: \u001b[38;5;241m1000\u001b[39m, \u001b[38;5;124m'\u001b[39m\u001b[38;5;124mtol\u001b[39m\u001b[38;5;124m'\u001b[39m: \u001b[38;5;241m1e-3\u001b[39m}, \n\u001b[1;32m     83\u001b[0m   model_name\u001b[38;5;241m=\u001b[39m\u001b[38;5;124m'\u001b[39m\u001b[38;5;124msgd\u001b[39m\u001b[38;5;124m'\u001b[39m\n\u001b[1;32m     84\u001b[0m )\n\u001b[1;32m     86\u001b[0m \u001b[38;5;66;03m# Generación y visualización de los informes\u001b[39;00m\n\u001b[1;32m     87\u001b[0m print_report(mnbf_model, X_test_tfidf, y_test, \u001b[38;5;124m'\u001b[39m\u001b[38;5;124mMultinomial Naive Bayes\u001b[39m\u001b[38;5;124m'\u001b[39m)\n",
            "\u001b[0;31mNameError\u001b[0m: name 'X_train_tfidf' is not defined"
          ]
        }
      ],
      "source": [
        "def vectorize_text(text_vectorizer, X_train, X_test, vectorizer_save_path):\n",
        "  X_train_tfidf = text_vectorizer.fit_transform(X_train)\n",
        "  text_vectorizer.save_vectorizer(vectorizer_save_path)\n",
        "  X_test_tfidf = text_vectorizer.transform(X_test)\n",
        "  return X_train_tfidf, X_test_tfidf\n",
        "\n",
        "def train_model(X_train, y_train, model_class, model_params={}, param_grid=None):\n",
        "  trainer = ModelTrainer(model_class, model_params)\n",
        "  if param_grid:\n",
        "      trainer.train(X_train, y_train, use_grid_search=True, grid_params=param_grid)\n",
        "  else:\n",
        "      trainer.train(X_train, y_train)\n",
        "  return trainer\n",
        "\n",
        "def evaluate_model(trainer, X_test, y_test):\n",
        "  return trainer.evaluate(X_test, y_test)\n",
        "\n",
        "def save_model(trainer, filename):\n",
        "  trainer.save_model(filename)\n",
        "\n",
        "def load_model(trainer, filename):\n",
        "  return trainer.load_model(filename)\n",
        "\n",
        "def analyze_sentiment(text_vectorizer, model, samples):\n",
        "  X_samples_tfidf = text_vectorizer.transform(samples)\n",
        "  return model.predict(X_samples_tfidf)\n",
        "\n",
        "def generate_report(y_true, y_pred, target_names):\n",
        "  return classification_report(y_true, y_pred, target_names=target_names)\n",
        "\n",
        "def train_evaluate_save_load_model(X_train, y_train, X_test, y_test, model_class, model_params={}, param_grid=None, model_name=''):\n",
        "    trainer = ModelTrainer(model_class, model_params)\n",
        "    if param_grid:\n",
        "        trainer.train(X_train, y_train, use_grid_search=True, grid_params=param_grid)\n",
        "    else:\n",
        "        trainer.train(X_train, y_train)\n",
        "\n",
        "    metrics = trainer.evaluate(X_test, y_test)\n",
        "\n",
        "    model_filename = f'{model_name}_model.pkl'\n",
        "    trainer.save_model(model_filename)\n",
        "\n",
        "    model = trainer.load_model(model_filename)\n",
        "\n",
        "    return trainer, metrics, model\n",
        "\n",
        "def print_report(model, X_test, y_test, model_name=''):\n",
        "    y_pred = model.predict(X_test)\n",
        "    report = classification_report(y_test, y_pred, target_names=['Positive', 'Negative'])\n",
        "    print(\"=\"*20)\n",
        "    print(model_name)\n",
        "    print(report)\n",
        "    print(\"\\n\")\n",
        "\n",
        "# mnb_trainer, mnb_metrics, mnbf_model = train_evaluate_save_load_model(\n",
        "#   X_train_tfidf, \n",
        "#   y_train, \n",
        "#   X_test_tfidf, \n",
        "#   y_test, \n",
        "#   MultinomialNB, \n",
        "#   param_grid={'alpha': [0.001, 0.01, 0.1, 1, 10, 100]}, \n",
        "#   model_name='multinomial_nb'\n",
        "# )\n",
        "\n",
        "# rf_trainer, rf_metrics, rfc_model = train_evaluate_save_load_model(\n",
        "#   X_train_tfidf,\n",
        "#   y_train, \n",
        "#   X_test_tfidf, \n",
        "#   y_test, \n",
        "#   RandomForestClassifier, \n",
        "#   model_params={'max_depth': 26, 'random_state': 42}, \n",
        "#   model_name='random_forest'\n",
        "# )\n",
        "\n",
        "sgd_trainer, sgd_metrics, sgdc_model = train_evaluate_save_load_model(\n",
        "  X_train_tfidf, \n",
        "  y_train, \n",
        "  X_test_tfidf, \n",
        "  y_test, \n",
        "  SGDClassifier, \n",
        "  param_grid={'alpha': [0.0001, 0.001, 0.01], 'loss': ['hinge', 'log_loss'], 'learning_rate': ['constant', 'optimal', 'adaptive'], 'eta0': [0.001, 0.01, 0.1]}, \n",
        "  model_params={'max_iter': 1000, 'tol': 1e-3}, \n",
        "  model_name='sgd'\n",
        ")\n",
        "\n",
        "# Generación y visualización de los informes\n",
        "print_report(mnbf_model, X_test_tfidf, y_test, 'Multinomial Naive Bayes')\n",
        "print_report(rfc_model, X_test_tfidf, y_test, 'Random Forest')\n",
        "print_report(sgdc_model, X_test_tfidf, y_test, 'Stochastic Gradient Descent')"
      ]
    },
    {
      "cell_type": "markdown",
      "metadata": {
        "id": "BAStOWOFEWul"
      },
      "source": [
        "### Random Forest Classification"
      ]
    },
    {
      "cell_type": "markdown",
      "metadata": {
        "id": "gzpNuM9KEdwc"
      },
      "source": [
        "### Stocastic Gradient Descent"
      ]
    },
    {
      "cell_type": "markdown",
      "metadata": {
        "id": "eTSybk9UEqZS"
      },
      "source": [
        "## DVD Category Classification"
      ]
    },
    {
      "cell_type": "markdown",
      "metadata": {
        "id": "kFkt1Hl8EqZb"
      },
      "source": [
        "### Multinomial Naive Bayes Classification"
      ]
    },
    {
      "cell_type": "markdown",
      "metadata": {
        "id": "ObM2NkSJEqZb"
      },
      "source": [
        "### Random Forest Classification"
      ]
    },
    {
      "cell_type": "markdown",
      "metadata": {
        "id": "xwJNWQAtEqZb"
      },
      "source": [
        "### Stocastic Gradient Descent"
      ]
    },
    {
      "cell_type": "markdown",
      "metadata": {
        "id": "WYoOfY7qErGC"
      },
      "source": [
        "## Video Category Classification"
      ]
    },
    {
      "cell_type": "markdown",
      "metadata": {
        "id": "S9338Z-BErGW"
      },
      "source": [
        "### Multinomial Naive Bayes Classification"
      ]
    },
    {
      "cell_type": "markdown",
      "metadata": {
        "id": "Fsy4i85BErGW"
      },
      "source": [
        "### Random Forest Classification"
      ]
    },
    {
      "cell_type": "markdown",
      "metadata": {
        "id": "iojETlyaErGW"
      },
      "source": [
        "### Stocastic Gradient Descent"
      ]
    },
    {
      "cell_type": "markdown",
      "metadata": {
        "id": "eInPQozIErax"
      },
      "source": [
        "## Electronics Category Classification"
      ]
    },
    {
      "cell_type": "markdown",
      "metadata": {
        "id": "JJ-OF4uPEray"
      },
      "source": [
        "### Multinomial Naive Bayes Classification"
      ]
    },
    {
      "cell_type": "markdown",
      "metadata": {
        "id": "ohZi5LBBEray"
      },
      "source": [
        "### Random Forest Classification"
      ]
    },
    {
      "cell_type": "markdown",
      "metadata": {
        "id": "QFYc-DFoEray"
      },
      "source": [
        "### Stocastic Gradient Descent"
      ]
    },
    {
      "cell_type": "code",
      "execution_count": null,
      "metadata": {
        "id": "9JzbPjiiDA2u"
      },
      "outputs": [],
      "source": []
    },
    {
      "cell_type": "markdown",
      "metadata": {
        "id": "42pa7kpgU3YP"
      },
      "source": [
        "# References\n",
        "- [1] John Blitzer, Mark Dredze, Fernando Pereira. Biographies, Bollywood, Boom-boxes and Blenders: Domain Adaptation for Sentiment Classification. Association of Computational Linguistics (ACL), 2007. [PDF](https://www.cs.jhu.edu/~mdredze/publications/sentiment_acl07.pdf)"
      ]
    }
  ],
  "metadata": {
    "colab": {
      "collapsed_sections": [
        "eTSybk9UEqZS",
        "WYoOfY7qErGC",
        "eInPQozIErax"
      ],
      "provenance": []
    },
    "kernelspec": {
      "display_name": "Python 3",
      "name": "python3"
    },
    "language_info": {
      "codemirror_mode": {
        "name": "ipython",
        "version": 3
      },
      "file_extension": ".py",
      "mimetype": "text/x-python",
      "name": "python",
      "nbconvert_exporter": "python",
      "pygments_lexer": "ipython3",
      "version": "3.10.12"
    }
  },
  "nbformat": 4,
  "nbformat_minor": 0
}
